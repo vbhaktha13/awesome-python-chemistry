{
  "nbformat": 4,
  "nbformat_minor": 0,
  "metadata": {
    "colab": {
      "name": "AI4DD - Lab 5 - RDKit and Molecule Features.ipynb",
      "provenance": [],
      "collapsed_sections": [],
      "include_colab_link": true
    },
    "kernelspec": {
      "name": "python3",
      "display_name": "Python 3"
    },
    "language_info": {
      "name": "python"
    },
    "widgets": {
      "application/vnd.jupyter.widget-state+json": {
        "e0924cbfd0fb4a0285480dda4721e0ee": {
          "model_module": "@jupyter-widgets/controls",
          "model_name": "HBoxModel",
          "model_module_version": "1.5.0",
          "state": {
            "_dom_classes": [],
            "_model_module": "@jupyter-widgets/controls",
            "_model_module_version": "1.5.0",
            "_model_name": "HBoxModel",
            "_view_count": null,
            "_view_module": "@jupyter-widgets/controls",
            "_view_module_version": "1.5.0",
            "_view_name": "HBoxView",
            "box_style": "",
            "children": [
              "IPY_MODEL_15eebbc91332487cb1f1b5deda2089c5",
              "IPY_MODEL_a7629cc78e3d469cbfa95b4d3a95b579",
              "IPY_MODEL_8fd8df8e4cef4da2bc3cde59588364d5"
            ],
            "layout": "IPY_MODEL_7779d5af168b47da98ede962bcf2df00"
          }
        },
        "15eebbc91332487cb1f1b5deda2089c5": {
          "model_module": "@jupyter-widgets/controls",
          "model_name": "HTMLModel",
          "model_module_version": "1.5.0",
          "state": {
            "_dom_classes": [],
            "_model_module": "@jupyter-widgets/controls",
            "_model_module_version": "1.5.0",
            "_model_name": "HTMLModel",
            "_view_count": null,
            "_view_module": "@jupyter-widgets/controls",
            "_view_module_version": "1.5.0",
            "_view_name": "HTMLView",
            "description": "",
            "description_tooltip": null,
            "layout": "IPY_MODEL_30ed361c9b4c43489952297e4125364d",
            "placeholder": "​",
            "style": "IPY_MODEL_c4c506f88bba45daa4ebfec2753e8bd4",
            "value": "100%"
          }
        },
        "a7629cc78e3d469cbfa95b4d3a95b579": {
          "model_module": "@jupyter-widgets/controls",
          "model_name": "FloatProgressModel",
          "model_module_version": "1.5.0",
          "state": {
            "_dom_classes": [],
            "_model_module": "@jupyter-widgets/controls",
            "_model_module_version": "1.5.0",
            "_model_name": "FloatProgressModel",
            "_view_count": null,
            "_view_module": "@jupyter-widgets/controls",
            "_view_module_version": "1.5.0",
            "_view_name": "ProgressView",
            "bar_style": "success",
            "description": "",
            "description_tooltip": null,
            "layout": "IPY_MODEL_a6641831edd64633bcabe40789845b09",
            "max": 66706,
            "min": 0,
            "orientation": "horizontal",
            "style": "IPY_MODEL_a1ee68f363a04786ba31bfaf48c5e145",
            "value": 66706
          }
        },
        "8fd8df8e4cef4da2bc3cde59588364d5": {
          "model_module": "@jupyter-widgets/controls",
          "model_name": "HTMLModel",
          "model_module_version": "1.5.0",
          "state": {
            "_dom_classes": [],
            "_model_module": "@jupyter-widgets/controls",
            "_model_module_version": "1.5.0",
            "_model_name": "HTMLModel",
            "_view_count": null,
            "_view_module": "@jupyter-widgets/controls",
            "_view_module_version": "1.5.0",
            "_view_name": "HTMLView",
            "description": "",
            "description_tooltip": null,
            "layout": "IPY_MODEL_f42c24beddb44ceeb808e26aa8b03072",
            "placeholder": "​",
            "style": "IPY_MODEL_0f96e48f1dfe437397322b9740dd85b7",
            "value": " 66706/66706 [00:07&lt;00:00, 5109.96it/s]"
          }
        },
        "7779d5af168b47da98ede962bcf2df00": {
          "model_module": "@jupyter-widgets/base",
          "model_name": "LayoutModel",
          "model_module_version": "1.2.0",
          "state": {
            "_model_module": "@jupyter-widgets/base",
            "_model_module_version": "1.2.0",
            "_model_name": "LayoutModel",
            "_view_count": null,
            "_view_module": "@jupyter-widgets/base",
            "_view_module_version": "1.2.0",
            "_view_name": "LayoutView",
            "align_content": null,
            "align_items": null,
            "align_self": null,
            "border": null,
            "bottom": null,
            "display": null,
            "flex": null,
            "flex_flow": null,
            "grid_area": null,
            "grid_auto_columns": null,
            "grid_auto_flow": null,
            "grid_auto_rows": null,
            "grid_column": null,
            "grid_gap": null,
            "grid_row": null,
            "grid_template_areas": null,
            "grid_template_columns": null,
            "grid_template_rows": null,
            "height": null,
            "justify_content": null,
            "justify_items": null,
            "left": null,
            "margin": null,
            "max_height": null,
            "max_width": null,
            "min_height": null,
            "min_width": null,
            "object_fit": null,
            "object_position": null,
            "order": null,
            "overflow": null,
            "overflow_x": null,
            "overflow_y": null,
            "padding": null,
            "right": null,
            "top": null,
            "visibility": null,
            "width": null
          }
        },
        "30ed361c9b4c43489952297e4125364d": {
          "model_module": "@jupyter-widgets/base",
          "model_name": "LayoutModel",
          "model_module_version": "1.2.0",
          "state": {
            "_model_module": "@jupyter-widgets/base",
            "_model_module_version": "1.2.0",
            "_model_name": "LayoutModel",
            "_view_count": null,
            "_view_module": "@jupyter-widgets/base",
            "_view_module_version": "1.2.0",
            "_view_name": "LayoutView",
            "align_content": null,
            "align_items": null,
            "align_self": null,
            "border": null,
            "bottom": null,
            "display": null,
            "flex": null,
            "flex_flow": null,
            "grid_area": null,
            "grid_auto_columns": null,
            "grid_auto_flow": null,
            "grid_auto_rows": null,
            "grid_column": null,
            "grid_gap": null,
            "grid_row": null,
            "grid_template_areas": null,
            "grid_template_columns": null,
            "grid_template_rows": null,
            "height": null,
            "justify_content": null,
            "justify_items": null,
            "left": null,
            "margin": null,
            "max_height": null,
            "max_width": null,
            "min_height": null,
            "min_width": null,
            "object_fit": null,
            "object_position": null,
            "order": null,
            "overflow": null,
            "overflow_x": null,
            "overflow_y": null,
            "padding": null,
            "right": null,
            "top": null,
            "visibility": null,
            "width": null
          }
        },
        "c4c506f88bba45daa4ebfec2753e8bd4": {
          "model_module": "@jupyter-widgets/controls",
          "model_name": "DescriptionStyleModel",
          "model_module_version": "1.5.0",
          "state": {
            "_model_module": "@jupyter-widgets/controls",
            "_model_module_version": "1.5.0",
            "_model_name": "DescriptionStyleModel",
            "_view_count": null,
            "_view_module": "@jupyter-widgets/base",
            "_view_module_version": "1.2.0",
            "_view_name": "StyleView",
            "description_width": ""
          }
        },
        "a6641831edd64633bcabe40789845b09": {
          "model_module": "@jupyter-widgets/base",
          "model_name": "LayoutModel",
          "model_module_version": "1.2.0",
          "state": {
            "_model_module": "@jupyter-widgets/base",
            "_model_module_version": "1.2.0",
            "_model_name": "LayoutModel",
            "_view_count": null,
            "_view_module": "@jupyter-widgets/base",
            "_view_module_version": "1.2.0",
            "_view_name": "LayoutView",
            "align_content": null,
            "align_items": null,
            "align_self": null,
            "border": null,
            "bottom": null,
            "display": null,
            "flex": null,
            "flex_flow": null,
            "grid_area": null,
            "grid_auto_columns": null,
            "grid_auto_flow": null,
            "grid_auto_rows": null,
            "grid_column": null,
            "grid_gap": null,
            "grid_row": null,
            "grid_template_areas": null,
            "grid_template_columns": null,
            "grid_template_rows": null,
            "height": null,
            "justify_content": null,
            "justify_items": null,
            "left": null,
            "margin": null,
            "max_height": null,
            "max_width": null,
            "min_height": null,
            "min_width": null,
            "object_fit": null,
            "object_position": null,
            "order": null,
            "overflow": null,
            "overflow_x": null,
            "overflow_y": null,
            "padding": null,
            "right": null,
            "top": null,
            "visibility": null,
            "width": null
          }
        },
        "a1ee68f363a04786ba31bfaf48c5e145": {
          "model_module": "@jupyter-widgets/controls",
          "model_name": "ProgressStyleModel",
          "model_module_version": "1.5.0",
          "state": {
            "_model_module": "@jupyter-widgets/controls",
            "_model_module_version": "1.5.0",
            "_model_name": "ProgressStyleModel",
            "_view_count": null,
            "_view_module": "@jupyter-widgets/base",
            "_view_module_version": "1.2.0",
            "_view_name": "StyleView",
            "bar_color": null,
            "description_width": ""
          }
        },
        "f42c24beddb44ceeb808e26aa8b03072": {
          "model_module": "@jupyter-widgets/base",
          "model_name": "LayoutModel",
          "model_module_version": "1.2.0",
          "state": {
            "_model_module": "@jupyter-widgets/base",
            "_model_module_version": "1.2.0",
            "_model_name": "LayoutModel",
            "_view_count": null,
            "_view_module": "@jupyter-widgets/base",
            "_view_module_version": "1.2.0",
            "_view_name": "LayoutView",
            "align_content": null,
            "align_items": null,
            "align_self": null,
            "border": null,
            "bottom": null,
            "display": null,
            "flex": null,
            "flex_flow": null,
            "grid_area": null,
            "grid_auto_columns": null,
            "grid_auto_flow": null,
            "grid_auto_rows": null,
            "grid_column": null,
            "grid_gap": null,
            "grid_row": null,
            "grid_template_areas": null,
            "grid_template_columns": null,
            "grid_template_rows": null,
            "height": null,
            "justify_content": null,
            "justify_items": null,
            "left": null,
            "margin": null,
            "max_height": null,
            "max_width": null,
            "min_height": null,
            "min_width": null,
            "object_fit": null,
            "object_position": null,
            "order": null,
            "overflow": null,
            "overflow_x": null,
            "overflow_y": null,
            "padding": null,
            "right": null,
            "top": null,
            "visibility": null,
            "width": null
          }
        },
        "0f96e48f1dfe437397322b9740dd85b7": {
          "model_module": "@jupyter-widgets/controls",
          "model_name": "DescriptionStyleModel",
          "model_module_version": "1.5.0",
          "state": {
            "_model_module": "@jupyter-widgets/controls",
            "_model_module_version": "1.5.0",
            "_model_name": "DescriptionStyleModel",
            "_view_count": null,
            "_view_module": "@jupyter-widgets/base",
            "_view_module_version": "1.2.0",
            "_view_name": "StyleView",
            "description_width": ""
          }
        },
        "de20e580835e4933b6b129d16feb7ff8": {
          "model_module": "@jupyter-widgets/controls",
          "model_name": "HBoxModel",
          "model_module_version": "1.5.0",
          "state": {
            "_dom_classes": [],
            "_model_module": "@jupyter-widgets/controls",
            "_model_module_version": "1.5.0",
            "_model_name": "HBoxModel",
            "_view_count": null,
            "_view_module": "@jupyter-widgets/controls",
            "_view_module_version": "1.5.0",
            "_view_name": "HBoxView",
            "box_style": "",
            "children": [
              "IPY_MODEL_d6b830a023cb4f37a803b4ba412562d5",
              "IPY_MODEL_0e37ee02f05149c3aec59e744370f5b9",
              "IPY_MODEL_8782e69a015a4711a68f09b5d33101be"
            ],
            "layout": "IPY_MODEL_1be8c723879e4a8991214444b3551a0a"
          }
        },
        "d6b830a023cb4f37a803b4ba412562d5": {
          "model_module": "@jupyter-widgets/controls",
          "model_name": "HTMLModel",
          "model_module_version": "1.5.0",
          "state": {
            "_dom_classes": [],
            "_model_module": "@jupyter-widgets/controls",
            "_model_module_version": "1.5.0",
            "_model_name": "HTMLModel",
            "_view_count": null,
            "_view_module": "@jupyter-widgets/controls",
            "_view_module_version": "1.5.0",
            "_view_name": "HTMLView",
            "description": "",
            "description_tooltip": null,
            "layout": "IPY_MODEL_99c21cf2188e4c4189d636495f8e8c96",
            "placeholder": "​",
            "style": "IPY_MODEL_e19cf975d99441fda284cb5f129bd80e",
            "value": "100%"
          }
        },
        "0e37ee02f05149c3aec59e744370f5b9": {
          "model_module": "@jupyter-widgets/controls",
          "model_name": "FloatProgressModel",
          "model_module_version": "1.5.0",
          "state": {
            "_dom_classes": [],
            "_model_module": "@jupyter-widgets/controls",
            "_model_module_version": "1.5.0",
            "_model_name": "FloatProgressModel",
            "_view_count": null,
            "_view_module": "@jupyter-widgets/controls",
            "_view_module_version": "1.5.0",
            "_view_name": "ProgressView",
            "bar_style": "success",
            "description": "",
            "description_tooltip": null,
            "layout": "IPY_MODEL_8d91eefcda5c4e66942dfaecbf81576d",
            "max": 66706,
            "min": 0,
            "orientation": "horizontal",
            "style": "IPY_MODEL_0b2ef47d5c7d41dca7259fb2207704be",
            "value": 66706
          }
        },
        "8782e69a015a4711a68f09b5d33101be": {
          "model_module": "@jupyter-widgets/controls",
          "model_name": "HTMLModel",
          "model_module_version": "1.5.0",
          "state": {
            "_dom_classes": [],
            "_model_module": "@jupyter-widgets/controls",
            "_model_module_version": "1.5.0",
            "_model_name": "HTMLModel",
            "_view_count": null,
            "_view_module": "@jupyter-widgets/controls",
            "_view_module_version": "1.5.0",
            "_view_name": "HTMLView",
            "description": "",
            "description_tooltip": null,
            "layout": "IPY_MODEL_c259335cfec44e7f8a4c89566938cfaf",
            "placeholder": "​",
            "style": "IPY_MODEL_00cd0c01c614475aac13cb33afb098da",
            "value": " 66706/66706 [00:12&lt;00:00, 5056.83it/s]"
          }
        },
        "1be8c723879e4a8991214444b3551a0a": {
          "model_module": "@jupyter-widgets/base",
          "model_name": "LayoutModel",
          "model_module_version": "1.2.0",
          "state": {
            "_model_module": "@jupyter-widgets/base",
            "_model_module_version": "1.2.0",
            "_model_name": "LayoutModel",
            "_view_count": null,
            "_view_module": "@jupyter-widgets/base",
            "_view_module_version": "1.2.0",
            "_view_name": "LayoutView",
            "align_content": null,
            "align_items": null,
            "align_self": null,
            "border": null,
            "bottom": null,
            "display": null,
            "flex": null,
            "flex_flow": null,
            "grid_area": null,
            "grid_auto_columns": null,
            "grid_auto_flow": null,
            "grid_auto_rows": null,
            "grid_column": null,
            "grid_gap": null,
            "grid_row": null,
            "grid_template_areas": null,
            "grid_template_columns": null,
            "grid_template_rows": null,
            "height": null,
            "justify_content": null,
            "justify_items": null,
            "left": null,
            "margin": null,
            "max_height": null,
            "max_width": null,
            "min_height": null,
            "min_width": null,
            "object_fit": null,
            "object_position": null,
            "order": null,
            "overflow": null,
            "overflow_x": null,
            "overflow_y": null,
            "padding": null,
            "right": null,
            "top": null,
            "visibility": null,
            "width": null
          }
        },
        "99c21cf2188e4c4189d636495f8e8c96": {
          "model_module": "@jupyter-widgets/base",
          "model_name": "LayoutModel",
          "model_module_version": "1.2.0",
          "state": {
            "_model_module": "@jupyter-widgets/base",
            "_model_module_version": "1.2.0",
            "_model_name": "LayoutModel",
            "_view_count": null,
            "_view_module": "@jupyter-widgets/base",
            "_view_module_version": "1.2.0",
            "_view_name": "LayoutView",
            "align_content": null,
            "align_items": null,
            "align_self": null,
            "border": null,
            "bottom": null,
            "display": null,
            "flex": null,
            "flex_flow": null,
            "grid_area": null,
            "grid_auto_columns": null,
            "grid_auto_flow": null,
            "grid_auto_rows": null,
            "grid_column": null,
            "grid_gap": null,
            "grid_row": null,
            "grid_template_areas": null,
            "grid_template_columns": null,
            "grid_template_rows": null,
            "height": null,
            "justify_content": null,
            "justify_items": null,
            "left": null,
            "margin": null,
            "max_height": null,
            "max_width": null,
            "min_height": null,
            "min_width": null,
            "object_fit": null,
            "object_position": null,
            "order": null,
            "overflow": null,
            "overflow_x": null,
            "overflow_y": null,
            "padding": null,
            "right": null,
            "top": null,
            "visibility": null,
            "width": null
          }
        },
        "e19cf975d99441fda284cb5f129bd80e": {
          "model_module": "@jupyter-widgets/controls",
          "model_name": "DescriptionStyleModel",
          "model_module_version": "1.5.0",
          "state": {
            "_model_module": "@jupyter-widgets/controls",
            "_model_module_version": "1.5.0",
            "_model_name": "DescriptionStyleModel",
            "_view_count": null,
            "_view_module": "@jupyter-widgets/base",
            "_view_module_version": "1.2.0",
            "_view_name": "StyleView",
            "description_width": ""
          }
        },
        "8d91eefcda5c4e66942dfaecbf81576d": {
          "model_module": "@jupyter-widgets/base",
          "model_name": "LayoutModel",
          "model_module_version": "1.2.0",
          "state": {
            "_model_module": "@jupyter-widgets/base",
            "_model_module_version": "1.2.0",
            "_model_name": "LayoutModel",
            "_view_count": null,
            "_view_module": "@jupyter-widgets/base",
            "_view_module_version": "1.2.0",
            "_view_name": "LayoutView",
            "align_content": null,
            "align_items": null,
            "align_self": null,
            "border": null,
            "bottom": null,
            "display": null,
            "flex": null,
            "flex_flow": null,
            "grid_area": null,
            "grid_auto_columns": null,
            "grid_auto_flow": null,
            "grid_auto_rows": null,
            "grid_column": null,
            "grid_gap": null,
            "grid_row": null,
            "grid_template_areas": null,
            "grid_template_columns": null,
            "grid_template_rows": null,
            "height": null,
            "justify_content": null,
            "justify_items": null,
            "left": null,
            "margin": null,
            "max_height": null,
            "max_width": null,
            "min_height": null,
            "min_width": null,
            "object_fit": null,
            "object_position": null,
            "order": null,
            "overflow": null,
            "overflow_x": null,
            "overflow_y": null,
            "padding": null,
            "right": null,
            "top": null,
            "visibility": null,
            "width": null
          }
        },
        "0b2ef47d5c7d41dca7259fb2207704be": {
          "model_module": "@jupyter-widgets/controls",
          "model_name": "ProgressStyleModel",
          "model_module_version": "1.5.0",
          "state": {
            "_model_module": "@jupyter-widgets/controls",
            "_model_module_version": "1.5.0",
            "_model_name": "ProgressStyleModel",
            "_view_count": null,
            "_view_module": "@jupyter-widgets/base",
            "_view_module_version": "1.2.0",
            "_view_name": "StyleView",
            "bar_color": null,
            "description_width": ""
          }
        },
        "c259335cfec44e7f8a4c89566938cfaf": {
          "model_module": "@jupyter-widgets/base",
          "model_name": "LayoutModel",
          "model_module_version": "1.2.0",
          "state": {
            "_model_module": "@jupyter-widgets/base",
            "_model_module_version": "1.2.0",
            "_model_name": "LayoutModel",
            "_view_count": null,
            "_view_module": "@jupyter-widgets/base",
            "_view_module_version": "1.2.0",
            "_view_name": "LayoutView",
            "align_content": null,
            "align_items": null,
            "align_self": null,
            "border": null,
            "bottom": null,
            "display": null,
            "flex": null,
            "flex_flow": null,
            "grid_area": null,
            "grid_auto_columns": null,
            "grid_auto_flow": null,
            "grid_auto_rows": null,
            "grid_column": null,
            "grid_gap": null,
            "grid_row": null,
            "grid_template_areas": null,
            "grid_template_columns": null,
            "grid_template_rows": null,
            "height": null,
            "justify_content": null,
            "justify_items": null,
            "left": null,
            "margin": null,
            "max_height": null,
            "max_width": null,
            "min_height": null,
            "min_width": null,
            "object_fit": null,
            "object_position": null,
            "order": null,
            "overflow": null,
            "overflow_x": null,
            "overflow_y": null,
            "padding": null,
            "right": null,
            "top": null,
            "visibility": null,
            "width": null
          }
        },
        "00cd0c01c614475aac13cb33afb098da": {
          "model_module": "@jupyter-widgets/controls",
          "model_name": "DescriptionStyleModel",
          "model_module_version": "1.5.0",
          "state": {
            "_model_module": "@jupyter-widgets/controls",
            "_model_module_version": "1.5.0",
            "_model_name": "DescriptionStyleModel",
            "_view_count": null,
            "_view_module": "@jupyter-widgets/base",
            "_view_module_version": "1.2.0",
            "_view_name": "StyleView",
            "description_width": ""
          }
        },
        "d990f54de41a4aa9a4b55baa892f27a2": {
          "model_module": "@jupyter-widgets/controls",
          "model_name": "HBoxModel",
          "model_module_version": "1.5.0",
          "state": {
            "_dom_classes": [],
            "_model_module": "@jupyter-widgets/controls",
            "_model_module_version": "1.5.0",
            "_model_name": "HBoxModel",
            "_view_count": null,
            "_view_module": "@jupyter-widgets/controls",
            "_view_module_version": "1.5.0",
            "_view_name": "HBoxView",
            "box_style": "",
            "children": [
              "IPY_MODEL_a19f2fbabf784f9da5422704c75578a6",
              "IPY_MODEL_18f02f1fad6049d39213d6f87cfebe4f",
              "IPY_MODEL_81964312deb04fc1b7fb776bff3f3dc7"
            ],
            "layout": "IPY_MODEL_3bb033918fa34cc7a4ac0370e688fb09"
          }
        },
        "a19f2fbabf784f9da5422704c75578a6": {
          "model_module": "@jupyter-widgets/controls",
          "model_name": "HTMLModel",
          "model_module_version": "1.5.0",
          "state": {
            "_dom_classes": [],
            "_model_module": "@jupyter-widgets/controls",
            "_model_module_version": "1.5.0",
            "_model_name": "HTMLModel",
            "_view_count": null,
            "_view_module": "@jupyter-widgets/controls",
            "_view_module_version": "1.5.0",
            "_view_name": "HTMLView",
            "description": "",
            "description_tooltip": null,
            "layout": "IPY_MODEL_08b4077ce2904fa1bd67b3bad761691b",
            "placeholder": "​",
            "style": "IPY_MODEL_49c7977f28b446b7a64fa53cfa367e52",
            "value": "100%"
          }
        },
        "18f02f1fad6049d39213d6f87cfebe4f": {
          "model_module": "@jupyter-widgets/controls",
          "model_name": "FloatProgressModel",
          "model_module_version": "1.5.0",
          "state": {
            "_dom_classes": [],
            "_model_module": "@jupyter-widgets/controls",
            "_model_module_version": "1.5.0",
            "_model_name": "FloatProgressModel",
            "_view_count": null,
            "_view_module": "@jupyter-widgets/controls",
            "_view_module_version": "1.5.0",
            "_view_name": "ProgressView",
            "bar_style": "success",
            "description": "",
            "description_tooltip": null,
            "layout": "IPY_MODEL_ba59acdb1a614dffa768c4de034f67d6",
            "max": 66706,
            "min": 0,
            "orientation": "horizontal",
            "style": "IPY_MODEL_f5c3294b85cc42f4ac3e098971e392c3",
            "value": 66706
          }
        },
        "81964312deb04fc1b7fb776bff3f3dc7": {
          "model_module": "@jupyter-widgets/controls",
          "model_name": "HTMLModel",
          "model_module_version": "1.5.0",
          "state": {
            "_dom_classes": [],
            "_model_module": "@jupyter-widgets/controls",
            "_model_module_version": "1.5.0",
            "_model_name": "HTMLModel",
            "_view_count": null,
            "_view_module": "@jupyter-widgets/controls",
            "_view_module_version": "1.5.0",
            "_view_name": "HTMLView",
            "description": "",
            "description_tooltip": null,
            "layout": "IPY_MODEL_0237e0ee94a74fba867590c86897011b",
            "placeholder": "​",
            "style": "IPY_MODEL_7d6377fbca134e1db0eae5f7c353c45b",
            "value": " 66706/66706 [00:32&lt;00:00, 2001.08it/s]"
          }
        },
        "3bb033918fa34cc7a4ac0370e688fb09": {
          "model_module": "@jupyter-widgets/base",
          "model_name": "LayoutModel",
          "model_module_version": "1.2.0",
          "state": {
            "_model_module": "@jupyter-widgets/base",
            "_model_module_version": "1.2.0",
            "_model_name": "LayoutModel",
            "_view_count": null,
            "_view_module": "@jupyter-widgets/base",
            "_view_module_version": "1.2.0",
            "_view_name": "LayoutView",
            "align_content": null,
            "align_items": null,
            "align_self": null,
            "border": null,
            "bottom": null,
            "display": null,
            "flex": null,
            "flex_flow": null,
            "grid_area": null,
            "grid_auto_columns": null,
            "grid_auto_flow": null,
            "grid_auto_rows": null,
            "grid_column": null,
            "grid_gap": null,
            "grid_row": null,
            "grid_template_areas": null,
            "grid_template_columns": null,
            "grid_template_rows": null,
            "height": null,
            "justify_content": null,
            "justify_items": null,
            "left": null,
            "margin": null,
            "max_height": null,
            "max_width": null,
            "min_height": null,
            "min_width": null,
            "object_fit": null,
            "object_position": null,
            "order": null,
            "overflow": null,
            "overflow_x": null,
            "overflow_y": null,
            "padding": null,
            "right": null,
            "top": null,
            "visibility": null,
            "width": null
          }
        },
        "08b4077ce2904fa1bd67b3bad761691b": {
          "model_module": "@jupyter-widgets/base",
          "model_name": "LayoutModel",
          "model_module_version": "1.2.0",
          "state": {
            "_model_module": "@jupyter-widgets/base",
            "_model_module_version": "1.2.0",
            "_model_name": "LayoutModel",
            "_view_count": null,
            "_view_module": "@jupyter-widgets/base",
            "_view_module_version": "1.2.0",
            "_view_name": "LayoutView",
            "align_content": null,
            "align_items": null,
            "align_self": null,
            "border": null,
            "bottom": null,
            "display": null,
            "flex": null,
            "flex_flow": null,
            "grid_area": null,
            "grid_auto_columns": null,
            "grid_auto_flow": null,
            "grid_auto_rows": null,
            "grid_column": null,
            "grid_gap": null,
            "grid_row": null,
            "grid_template_areas": null,
            "grid_template_columns": null,
            "grid_template_rows": null,
            "height": null,
            "justify_content": null,
            "justify_items": null,
            "left": null,
            "margin": null,
            "max_height": null,
            "max_width": null,
            "min_height": null,
            "min_width": null,
            "object_fit": null,
            "object_position": null,
            "order": null,
            "overflow": null,
            "overflow_x": null,
            "overflow_y": null,
            "padding": null,
            "right": null,
            "top": null,
            "visibility": null,
            "width": null
          }
        },
        "49c7977f28b446b7a64fa53cfa367e52": {
          "model_module": "@jupyter-widgets/controls",
          "model_name": "DescriptionStyleModel",
          "model_module_version": "1.5.0",
          "state": {
            "_model_module": "@jupyter-widgets/controls",
            "_model_module_version": "1.5.0",
            "_model_name": "DescriptionStyleModel",
            "_view_count": null,
            "_view_module": "@jupyter-widgets/base",
            "_view_module_version": "1.2.0",
            "_view_name": "StyleView",
            "description_width": ""
          }
        },
        "ba59acdb1a614dffa768c4de034f67d6": {
          "model_module": "@jupyter-widgets/base",
          "model_name": "LayoutModel",
          "model_module_version": "1.2.0",
          "state": {
            "_model_module": "@jupyter-widgets/base",
            "_model_module_version": "1.2.0",
            "_model_name": "LayoutModel",
            "_view_count": null,
            "_view_module": "@jupyter-widgets/base",
            "_view_module_version": "1.2.0",
            "_view_name": "LayoutView",
            "align_content": null,
            "align_items": null,
            "align_self": null,
            "border": null,
            "bottom": null,
            "display": null,
            "flex": null,
            "flex_flow": null,
            "grid_area": null,
            "grid_auto_columns": null,
            "grid_auto_flow": null,
            "grid_auto_rows": null,
            "grid_column": null,
            "grid_gap": null,
            "grid_row": null,
            "grid_template_areas": null,
            "grid_template_columns": null,
            "grid_template_rows": null,
            "height": null,
            "justify_content": null,
            "justify_items": null,
            "left": null,
            "margin": null,
            "max_height": null,
            "max_width": null,
            "min_height": null,
            "min_width": null,
            "object_fit": null,
            "object_position": null,
            "order": null,
            "overflow": null,
            "overflow_x": null,
            "overflow_y": null,
            "padding": null,
            "right": null,
            "top": null,
            "visibility": null,
            "width": null
          }
        },
        "f5c3294b85cc42f4ac3e098971e392c3": {
          "model_module": "@jupyter-widgets/controls",
          "model_name": "ProgressStyleModel",
          "model_module_version": "1.5.0",
          "state": {
            "_model_module": "@jupyter-widgets/controls",
            "_model_module_version": "1.5.0",
            "_model_name": "ProgressStyleModel",
            "_view_count": null,
            "_view_module": "@jupyter-widgets/base",
            "_view_module_version": "1.2.0",
            "_view_name": "StyleView",
            "bar_color": null,
            "description_width": ""
          }
        },
        "0237e0ee94a74fba867590c86897011b": {
          "model_module": "@jupyter-widgets/base",
          "model_name": "LayoutModel",
          "model_module_version": "1.2.0",
          "state": {
            "_model_module": "@jupyter-widgets/base",
            "_model_module_version": "1.2.0",
            "_model_name": "LayoutModel",
            "_view_count": null,
            "_view_module": "@jupyter-widgets/base",
            "_view_module_version": "1.2.0",
            "_view_name": "LayoutView",
            "align_content": null,
            "align_items": null,
            "align_self": null,
            "border": null,
            "bottom": null,
            "display": null,
            "flex": null,
            "flex_flow": null,
            "grid_area": null,
            "grid_auto_columns": null,
            "grid_auto_flow": null,
            "grid_auto_rows": null,
            "grid_column": null,
            "grid_gap": null,
            "grid_row": null,
            "grid_template_areas": null,
            "grid_template_columns": null,
            "grid_template_rows": null,
            "height": null,
            "justify_content": null,
            "justify_items": null,
            "left": null,
            "margin": null,
            "max_height": null,
            "max_width": null,
            "min_height": null,
            "min_width": null,
            "object_fit": null,
            "object_position": null,
            "order": null,
            "overflow": null,
            "overflow_x": null,
            "overflow_y": null,
            "padding": null,
            "right": null,
            "top": null,
            "visibility": null,
            "width": null
          }
        },
        "7d6377fbca134e1db0eae5f7c353c45b": {
          "model_module": "@jupyter-widgets/controls",
          "model_name": "DescriptionStyleModel",
          "model_module_version": "1.5.0",
          "state": {
            "_model_module": "@jupyter-widgets/controls",
            "_model_module_version": "1.5.0",
            "_model_name": "DescriptionStyleModel",
            "_view_count": null,
            "_view_module": "@jupyter-widgets/base",
            "_view_module_version": "1.2.0",
            "_view_name": "StyleView",
            "description_width": ""
          }
        },
        "7999eb6a00114abba343c3fd9ae21903": {
          "model_module": "@jupyter-widgets/controls",
          "model_name": "HBoxModel",
          "model_module_version": "1.5.0",
          "state": {
            "_dom_classes": [],
            "_model_module": "@jupyter-widgets/controls",
            "_model_module_version": "1.5.0",
            "_model_name": "HBoxModel",
            "_view_count": null,
            "_view_module": "@jupyter-widgets/controls",
            "_view_module_version": "1.5.0",
            "_view_name": "HBoxView",
            "box_style": "",
            "children": [
              "IPY_MODEL_b1e50082ae01450b82269a361de144bc",
              "IPY_MODEL_2d5774b9cd924d29b3e46d6f9a949543",
              "IPY_MODEL_7bb20f45ec694ee095fab13d17f6bb1c"
            ],
            "layout": "IPY_MODEL_13063aaf584b46729ac32379014eab92"
          }
        },
        "b1e50082ae01450b82269a361de144bc": {
          "model_module": "@jupyter-widgets/controls",
          "model_name": "HTMLModel",
          "model_module_version": "1.5.0",
          "state": {
            "_dom_classes": [],
            "_model_module": "@jupyter-widgets/controls",
            "_model_module_version": "1.5.0",
            "_model_name": "HTMLModel",
            "_view_count": null,
            "_view_module": "@jupyter-widgets/controls",
            "_view_module_version": "1.5.0",
            "_view_name": "HTMLView",
            "description": "",
            "description_tooltip": null,
            "layout": "IPY_MODEL_a60e7879c8f8435883d19b2d6d161396",
            "placeholder": "​",
            "style": "IPY_MODEL_8d58a92d5ec64590b2b24bc251125850",
            "value": "100%"
          }
        },
        "2d5774b9cd924d29b3e46d6f9a949543": {
          "model_module": "@jupyter-widgets/controls",
          "model_name": "FloatProgressModel",
          "model_module_version": "1.5.0",
          "state": {
            "_dom_classes": [],
            "_model_module": "@jupyter-widgets/controls",
            "_model_module_version": "1.5.0",
            "_model_name": "FloatProgressModel",
            "_view_count": null,
            "_view_module": "@jupyter-widgets/controls",
            "_view_module_version": "1.5.0",
            "_view_name": "ProgressView",
            "bar_style": "success",
            "description": "",
            "description_tooltip": null,
            "layout": "IPY_MODEL_8c2bd299e543412c8b22fe535edd0b4c",
            "max": 66706,
            "min": 0,
            "orientation": "horizontal",
            "style": "IPY_MODEL_4b2423979e77490cba9effd832460178",
            "value": 66706
          }
        },
        "7bb20f45ec694ee095fab13d17f6bb1c": {
          "model_module": "@jupyter-widgets/controls",
          "model_name": "HTMLModel",
          "model_module_version": "1.5.0",
          "state": {
            "_dom_classes": [],
            "_model_module": "@jupyter-widgets/controls",
            "_model_module_version": "1.5.0",
            "_model_name": "HTMLModel",
            "_view_count": null,
            "_view_module": "@jupyter-widgets/controls",
            "_view_module_version": "1.5.0",
            "_view_name": "HTMLView",
            "description": "",
            "description_tooltip": null,
            "layout": "IPY_MODEL_5215d8fbcec5406fba5d5409dd3b6c42",
            "placeholder": "​",
            "style": "IPY_MODEL_7a2faf29371441e6895295b798c0712f",
            "value": " 66706/66706 [01:12&lt;00:00, 891.69it/s]"
          }
        },
        "13063aaf584b46729ac32379014eab92": {
          "model_module": "@jupyter-widgets/base",
          "model_name": "LayoutModel",
          "model_module_version": "1.2.0",
          "state": {
            "_model_module": "@jupyter-widgets/base",
            "_model_module_version": "1.2.0",
            "_model_name": "LayoutModel",
            "_view_count": null,
            "_view_module": "@jupyter-widgets/base",
            "_view_module_version": "1.2.0",
            "_view_name": "LayoutView",
            "align_content": null,
            "align_items": null,
            "align_self": null,
            "border": null,
            "bottom": null,
            "display": null,
            "flex": null,
            "flex_flow": null,
            "grid_area": null,
            "grid_auto_columns": null,
            "grid_auto_flow": null,
            "grid_auto_rows": null,
            "grid_column": null,
            "grid_gap": null,
            "grid_row": null,
            "grid_template_areas": null,
            "grid_template_columns": null,
            "grid_template_rows": null,
            "height": null,
            "justify_content": null,
            "justify_items": null,
            "left": null,
            "margin": null,
            "max_height": null,
            "max_width": null,
            "min_height": null,
            "min_width": null,
            "object_fit": null,
            "object_position": null,
            "order": null,
            "overflow": null,
            "overflow_x": null,
            "overflow_y": null,
            "padding": null,
            "right": null,
            "top": null,
            "visibility": null,
            "width": null
          }
        },
        "a60e7879c8f8435883d19b2d6d161396": {
          "model_module": "@jupyter-widgets/base",
          "model_name": "LayoutModel",
          "model_module_version": "1.2.0",
          "state": {
            "_model_module": "@jupyter-widgets/base",
            "_model_module_version": "1.2.0",
            "_model_name": "LayoutModel",
            "_view_count": null,
            "_view_module": "@jupyter-widgets/base",
            "_view_module_version": "1.2.0",
            "_view_name": "LayoutView",
            "align_content": null,
            "align_items": null,
            "align_self": null,
            "border": null,
            "bottom": null,
            "display": null,
            "flex": null,
            "flex_flow": null,
            "grid_area": null,
            "grid_auto_columns": null,
            "grid_auto_flow": null,
            "grid_auto_rows": null,
            "grid_column": null,
            "grid_gap": null,
            "grid_row": null,
            "grid_template_areas": null,
            "grid_template_columns": null,
            "grid_template_rows": null,
            "height": null,
            "justify_content": null,
            "justify_items": null,
            "left": null,
            "margin": null,
            "max_height": null,
            "max_width": null,
            "min_height": null,
            "min_width": null,
            "object_fit": null,
            "object_position": null,
            "order": null,
            "overflow": null,
            "overflow_x": null,
            "overflow_y": null,
            "padding": null,
            "right": null,
            "top": null,
            "visibility": null,
            "width": null
          }
        },
        "8d58a92d5ec64590b2b24bc251125850": {
          "model_module": "@jupyter-widgets/controls",
          "model_name": "DescriptionStyleModel",
          "model_module_version": "1.5.0",
          "state": {
            "_model_module": "@jupyter-widgets/controls",
            "_model_module_version": "1.5.0",
            "_model_name": "DescriptionStyleModel",
            "_view_count": null,
            "_view_module": "@jupyter-widgets/base",
            "_view_module_version": "1.2.0",
            "_view_name": "StyleView",
            "description_width": ""
          }
        },
        "8c2bd299e543412c8b22fe535edd0b4c": {
          "model_module": "@jupyter-widgets/base",
          "model_name": "LayoutModel",
          "model_module_version": "1.2.0",
          "state": {
            "_model_module": "@jupyter-widgets/base",
            "_model_module_version": "1.2.0",
            "_model_name": "LayoutModel",
            "_view_count": null,
            "_view_module": "@jupyter-widgets/base",
            "_view_module_version": "1.2.0",
            "_view_name": "LayoutView",
            "align_content": null,
            "align_items": null,
            "align_self": null,
            "border": null,
            "bottom": null,
            "display": null,
            "flex": null,
            "flex_flow": null,
            "grid_area": null,
            "grid_auto_columns": null,
            "grid_auto_flow": null,
            "grid_auto_rows": null,
            "grid_column": null,
            "grid_gap": null,
            "grid_row": null,
            "grid_template_areas": null,
            "grid_template_columns": null,
            "grid_template_rows": null,
            "height": null,
            "justify_content": null,
            "justify_items": null,
            "left": null,
            "margin": null,
            "max_height": null,
            "max_width": null,
            "min_height": null,
            "min_width": null,
            "object_fit": null,
            "object_position": null,
            "order": null,
            "overflow": null,
            "overflow_x": null,
            "overflow_y": null,
            "padding": null,
            "right": null,
            "top": null,
            "visibility": null,
            "width": null
          }
        },
        "4b2423979e77490cba9effd832460178": {
          "model_module": "@jupyter-widgets/controls",
          "model_name": "ProgressStyleModel",
          "model_module_version": "1.5.0",
          "state": {
            "_model_module": "@jupyter-widgets/controls",
            "_model_module_version": "1.5.0",
            "_model_name": "ProgressStyleModel",
            "_view_count": null,
            "_view_module": "@jupyter-widgets/base",
            "_view_module_version": "1.2.0",
            "_view_name": "StyleView",
            "bar_color": null,
            "description_width": ""
          }
        },
        "5215d8fbcec5406fba5d5409dd3b6c42": {
          "model_module": "@jupyter-widgets/base",
          "model_name": "LayoutModel",
          "model_module_version": "1.2.0",
          "state": {
            "_model_module": "@jupyter-widgets/base",
            "_model_module_version": "1.2.0",
            "_model_name": "LayoutModel",
            "_view_count": null,
            "_view_module": "@jupyter-widgets/base",
            "_view_module_version": "1.2.0",
            "_view_name": "LayoutView",
            "align_content": null,
            "align_items": null,
            "align_self": null,
            "border": null,
            "bottom": null,
            "display": null,
            "flex": null,
            "flex_flow": null,
            "grid_area": null,
            "grid_auto_columns": null,
            "grid_auto_flow": null,
            "grid_auto_rows": null,
            "grid_column": null,
            "grid_gap": null,
            "grid_row": null,
            "grid_template_areas": null,
            "grid_template_columns": null,
            "grid_template_rows": null,
            "height": null,
            "justify_content": null,
            "justify_items": null,
            "left": null,
            "margin": null,
            "max_height": null,
            "max_width": null,
            "min_height": null,
            "min_width": null,
            "object_fit": null,
            "object_position": null,
            "order": null,
            "overflow": null,
            "overflow_x": null,
            "overflow_y": null,
            "padding": null,
            "right": null,
            "top": null,
            "visibility": null,
            "width": null
          }
        },
        "7a2faf29371441e6895295b798c0712f": {
          "model_module": "@jupyter-widgets/controls",
          "model_name": "DescriptionStyleModel",
          "model_module_version": "1.5.0",
          "state": {
            "_model_module": "@jupyter-widgets/controls",
            "_model_module_version": "1.5.0",
            "_model_name": "DescriptionStyleModel",
            "_view_count": null,
            "_view_module": "@jupyter-widgets/base",
            "_view_module_version": "1.2.0",
            "_view_name": "StyleView",
            "description_width": ""
          }
        }
      }
    }
  },
  "cells": [
    {
      "cell_type": "markdown",
      "metadata": {
        "id": "view-in-github",
        "colab_type": "text"
      },
      "source": [
        "<a href=\"https://colab.research.google.com/github/vbhaktha13/awesome-python-chemistry/blob/master/AI4DD_Lab_5_RDKit_and_Molecule_Features.ipynb\" target=\"_parent\"><img src=\"https://colab.research.google.com/assets/colab-badge.svg\" alt=\"Open In Colab\"/></a>"
      ]
    },
    {
      "cell_type": "code",
      "source": [
        "!wget -c https://repo.continuum.io/miniconda/Miniconda3-py37_4.8.3-Linux-x86_64.sh\n",
        "!chmod +x Miniconda3-py37_4.8.3-Linux-x86_64.sh\n",
        "!time bash ./Miniconda3-py37_4.8.3-Linux-x86_64.sh -b -f -p /usr/local\n",
        "!time conda install -q -y -c rdkit rdkit\n",
        "\n",
        "import sys\n",
        "sys.path.append('/usr/local/lib/python3.7/site-packages/')"
      ],
      "metadata": {
        "id": "eo4MkquLshzR",
        "colab": {
          "base_uri": "https://localhost:8080/"
        },
        "outputId": "e3cb6712-90f1-4aba-9d67-6f9561756000"
      },
      "execution_count": null,
      "outputs": [
        {
          "output_type": "stream",
          "name": "stdout",
          "text": [
            "--2022-04-15 08:56:37--  https://repo.continuum.io/miniconda/Miniconda3-py37_4.8.3-Linux-x86_64.sh\n",
            "Resolving repo.continuum.io (repo.continuum.io)... 104.18.201.79, 104.18.200.79, 2606:4700::6812:c94f, ...\n",
            "Connecting to repo.continuum.io (repo.continuum.io)|104.18.201.79|:443... connected.\n",
            "HTTP request sent, awaiting response... 301 Moved Permanently\n",
            "Location: https://repo.anaconda.com/miniconda/Miniconda3-py37_4.8.3-Linux-x86_64.sh [following]\n",
            "--2022-04-15 08:56:37--  https://repo.anaconda.com/miniconda/Miniconda3-py37_4.8.3-Linux-x86_64.sh\n",
            "Resolving repo.anaconda.com (repo.anaconda.com)... 104.16.130.3, 104.16.131.3, 2606:4700::6810:8303, ...\n",
            "Connecting to repo.anaconda.com (repo.anaconda.com)|104.16.130.3|:443... connected.\n",
            "HTTP request sent, awaiting response... 416 Requested Range Not Satisfiable\n",
            "\n",
            "    The file is already fully retrieved; nothing to do.\n",
            "\n",
            "PREFIX=/usr/local\n",
            "Unpacking payload ...\n",
            "Collecting package metadata (current_repodata.json): - \b\b\\ \b\b| \b\bdone\n",
            "Solving environment: - \b\b\\ \b\b| \b\b/ \b\b- \b\b\\ \n",
            "The environment is inconsistent, please check the package plan carefully\n",
            "The following packages are causing the inconsistency:\n",
            "\n",
            "  - defaults/linux-64::certifi==2021.10.8=py37h06a4308_2\n",
            "  - defaults/linux-64::freetype==2.11.0=h70c0345_0\n",
            "  - defaults/noarch::pyparsing==3.0.4=pyhd3eb1b0_0\n",
            "  - defaults/linux-64::lcms2==2.12=h3be6417_0\n",
            "  - defaults/linux-64::lz4-c==1.9.3=h295c915_1\n",
            "  - defaults/linux-64::libtiff==4.2.0=h85742a9_0\n",
            "  - defaults/linux-64::pyopenssl==19.1.0=py37_0\n",
            "  - defaults/linux-64::numexpr==2.8.1=py37h6abb31d_0\n",
            "  - defaults/linux-64::py-boost==1.73.0=py37ha9443f7_11\n",
            "  - defaults/linux-64::bottleneck==1.3.4=py37hce1f21e_0\n",
            "  - defaults/linux-64::libwebp==1.2.2=h55f646e_0\n",
            "  - defaults/linux-64::mkl_fft==1.3.1=py37hd3c417c_0\n",
            "  - defaults/linux-64::fontconfig==2.13.1=h6c09931_0\n",
            "  - defaults/linux-64::conda==4.12.0=py37h06a4308_0\n",
            "  - defaults/linux-64::tk==8.6.8=hbc83047_0\n",
            "  - defaults/linux-64::libgcc-ng==9.3.0=h5101ec6_17\n",
            "  - defaults/linux-64::pip==20.0.2=py37_3\n",
            "  - defaults/linux-64::jpeg==9d=h7f8727e_0\n",
            "  - defaults/linux-64::pixman==0.40.0=h7f8727e_1\n",
            "  - defaults/linux-64::giflib==5.2.1=h7b6447c_0\n",
            "  - defaults/noarch::python-dateutil==2.8.2=pyhd3eb1b0_0\n",
            "  - defaults/linux-64::mkl-service==2.4.0=py37h7f8727e_0\n",
            "  - defaults/linux-64::chardet==3.0.4=py37_1003\n",
            "  - defaults/linux-64::yaml==0.1.7=had09818_2\n",
            "  - defaults/linux-64::xz==5.2.5=h7b6447c_0\n",
            "  - defaults/linux-64::bzip2==1.0.8=h7b6447c_0\n",
            "  - defaults/noarch::idna==2.9=py_1\n",
            "  - defaults/linux-64::ruamel_yaml==0.15.87=py37h7b6447c_0\n",
            "  - defaults/linux-64::pillow==9.0.1=py37h22f2fdc_0\n",
            "  - defaults/linux-64::pandas==1.3.4=py37h8c16a72_0\n",
            "  - defaults/noarch::tqdm==4.46.0=py_0\n",
            "  - defaults/linux-64::pcre==8.45=h295c915_0\n",
            "  - defaults/linux-64::zlib==1.2.11=h7b6447c_3\n",
            "  - defaults/linux-64::sqlite==3.31.1=h62c20be_1\n",
            "  - defaults/linux-64::numpy==1.21.5=py37he7a7128_1\n",
            "  - defaults/linux-64::numpy-base==1.21.5=py37hf524024_1\n",
            "  - rdkit/linux-64::rdkit==2020.09.1.0=py37hd50e099_1\n",
            "  - defaults/noarch::packaging==21.3=pyhd3eb1b0_0\n",
            "  - defaults/linux-64::glib==2.69.1=h4ff587b_1\n",
            "  - defaults/linux-64::readline==8.0=h7b6447c_0\n",
            "  - defaults/linux-64::libpng==1.6.37=hbc83047_0\n",
            "  - defaults/noarch::pytz==2021.3=pyhd3eb1b0_0\n",
            "  - defaults/linux-64::python==3.7.7=hcff3b4d_5\n",
            "  - defaults/noarch::pycparser==2.20=py_0\n",
            "  - defaults/linux-64::cffi==1.14.0=py37he30daa8_1\n",
            "  - defaults/linux-64::libuuid==1.0.3=h7f8727e_2\n",
            "  - defaults/linux-64::conda-package-handling==1.6.1=py37h7b6447c_0\n",
            "  - defaults/linux-64::cryptography==2.9.2=py37h1ba5d50_0\n",
            "  - defaults/linux-64::icu==58.2=he6710b0_3\n",
            "  - defaults/linux-64::libxml2==2.9.12=h03d6c58_0\n",
            "  - defaults/linux-64::libxcb==1.14=h7b6447c_0\n",
            "  - defaults/linux-64::libffi==3.3=he6710b0_1\n",
            "  - defaults/linux-64::pysocks==1.7.1=py37_0\n",
            "  - defaults/linux-64::pycosat==0.6.3=py37h7b6447c_0\n",
            "  - defaults/linux-64::urllib3==1.25.8=py37_0\n",
            "  - defaults/linux-64::six==1.14.0=py37_0\n",
            "  - defaults/linux-64::wheel==0.34.2=py37_0\n",
            "  - defaults/linux-64::libwebp-base==1.2.2=h7f8727e_0\n",
            "  - defaults/linux-64::ncurses==6.2=he6710b0_1\n",
            "  - defaults/linux-64::mkl_random==1.2.2=py37h51133e4_0\n",
            "  - defaults/linux-64::cairo==1.16.0=hf32fb01_1\n",
            "  - defaults/linux-64::requests==2.23.0=py37_0\n",
            "  - defaults/linux-64::setuptools==46.4.0=py37_0\n",
            "  - defaults/linux-64::libboost==1.73.0=h3ff78a5_11\n",
            "  - defaults/linux-64::zstd==1.4.9=haebb681_0\n",
            "  - defaults/linux-64::libedit==3.1.20181209=hc058e9b_0\n",
            "  - defaults/linux-64::openssl==1.1.1n=h7f8727e_0\n",
            "\b\b| \b\b/ \b\b- \b\b\\ \b\b| \b\b/ \b\b- \b\b\\ \b\bdone\n",
            "\n",
            "## Package Plan ##\n",
            "\n",
            "  environment location: /usr/local\n",
            "\n",
            "  added / updated specs:\n",
            "    - _libgcc_mutex==0.1=main\n",
            "    - ca-certificates==2020.1.1=0\n",
            "    - certifi==2020.4.5.1=py37_0\n",
            "    - cffi==1.14.0=py37he30daa8_1\n",
            "    - chardet==3.0.4=py37_1003\n",
            "    - conda-package-handling==1.6.1=py37h7b6447c_0\n",
            "    - conda==4.8.3=py37_0\n",
            "    - cryptography==2.9.2=py37h1ba5d50_0\n",
            "    - idna==2.9=py_1\n",
            "    - ld_impl_linux-64==2.33.1=h53a641e_7\n",
            "    - libedit==3.1.20181209=hc058e9b_0\n",
            "    - libffi==3.3=he6710b0_1\n",
            "    - libgcc-ng==9.1.0=hdf63c60_0\n",
            "    - libstdcxx-ng==9.1.0=hdf63c60_0\n",
            "    - ncurses==6.2=he6710b0_1\n",
            "    - openssl==1.1.1g=h7b6447c_0\n",
            "    - pip==20.0.2=py37_3\n",
            "    - pycosat==0.6.3=py37h7b6447c_0\n",
            "    - pycparser==2.20=py_0\n",
            "    - pyopenssl==19.1.0=py37_0\n",
            "    - pysocks==1.7.1=py37_0\n",
            "    - python==3.7.7=hcff3b4d_5\n",
            "    - readline==8.0=h7b6447c_0\n",
            "    - requests==2.23.0=py37_0\n",
            "    - ruamel_yaml==0.15.87=py37h7b6447c_0\n",
            "    - setuptools==46.4.0=py37_0\n",
            "    - six==1.14.0=py37_0\n",
            "    - sqlite==3.31.1=h62c20be_1\n",
            "    - tk==8.6.8=hbc83047_0\n",
            "    - tqdm==4.46.0=py_0\n",
            "    - urllib3==1.25.8=py37_0\n",
            "    - wheel==0.34.2=py37_0\n",
            "    - xz==5.2.5=h7b6447c_0\n",
            "    - yaml==0.1.7=had09818_2\n",
            "    - zlib==1.2.11=h7b6447c_3\n",
            "\n",
            "\n",
            "The following packages will be DOWNGRADED:\n",
            "\n",
            "  ca-certificates                      2022.3.29-h06a4308_0 --> 2020.1.1-0\n",
            "\n",
            "\n",
            "Preparing transaction: / \b\bdone\n",
            "Executing transaction: \\ \b\bdone\n",
            "installation finished.\n",
            "WARNING:\n",
            "    You currently have a PYTHONPATH environment variable set. This may cause\n",
            "    unexpected behavior when running the Python interpreter in Miniconda3.\n",
            "    For best results, please verify that your PYTHONPATH only points to\n",
            "    directories of packages that are compatible with the Python interpreter\n",
            "    in Miniconda3: /usr/local\n",
            "\n",
            "real\t0m35.458s\n",
            "user\t0m26.576s\n",
            "sys\t0m13.849s\n",
            "Collecting package metadata (current_repodata.json): ...working... done\n",
            "Solving environment: ...working... done\n",
            "\n",
            "## Package Plan ##\n",
            "\n",
            "  environment location: /usr/local\n",
            "\n",
            "  added / updated specs:\n",
            "    - rdkit\n",
            "\n",
            "\n",
            "The following packages will be UPDATED:\n",
            "\n",
            "  ca-certificates                                2020.1.1-0 --> 2022.3.29-h06a4308_0\n",
            "\n",
            "\n",
            "Preparing transaction: ...working... done\n",
            "Verifying transaction: ...working... done\n",
            "Executing transaction: ...working... done\n",
            "\n",
            "real\t0m5.467s\n",
            "user\t0m4.642s\n",
            "sys\t0m0.685s\n"
          ]
        }
      ]
    },
    {
      "cell_type": "code",
      "source": [
        "import numpy as np\n",
        "import pandas as pd\n",
        "import tqdm.auto as tqdm\n",
        "\n",
        "from matplotlib import pyplot as plt\n",
        "import seaborn as sns\n",
        "\n",
        "import rdkit, rdkit.Chem.AllChem, rdkit.Chem.Crippen\n",
        "import rdkit.Chem as Chem\n",
        "from rdkit.Chem import Draw\n",
        "\n",
        "import torch\n",
        "import sklearn.linear_model, sklearn.model_selection"
      ],
      "metadata": {
        "id": "91CkjrU0uspe"
      },
      "execution_count": null,
      "outputs": []
    },
    {
      "cell_type": "markdown",
      "source": [
        "## Introduction to RDKit"
      ],
      "metadata": {
        "id": "yIVVc1TIZ9aa"
      }
    },
    {
      "cell_type": "markdown",
      "source": [
        "RDKit is a collection of cheminformatics and machine-learning software written in C++ and Python that allows you to work with molecules easily."
      ],
      "metadata": {
        "id": "Z7k9taHsmP66"
      }
    },
    {
      "cell_type": "markdown",
      "source": [
        "### Constructing a molecule"
      ],
      "metadata": {
        "id": "U4iMQW9Ih7Eb"
      }
    },
    {
      "cell_type": "code",
      "execution_count": null,
      "metadata": {
        "id": "yooLrKhIXh5r",
        "colab": {
          "base_uri": "https://localhost:8080/",
          "height": 253
        },
        "outputId": "3aaaa127-69b3-4b57-e596-01018ac7dda0"
      },
      "outputs": [
        {
          "output_type": "error",
          "ename": "OSError",
          "evalue": "ignored",
          "traceback": [
            "\u001b[0;31m---------------------------------------------------------------------------\u001b[0m",
            "\u001b[0;31mOSError\u001b[0m                                   Traceback (most recent call last)",
            "\u001b[0;32m<ipython-input-4-b2e2fa856754>\u001b[0m in \u001b[0;36m<module>\u001b[0;34m()\u001b[0m\n\u001b[1;32m      4\u001b[0m \u001b[0;34m\u001b[0m\u001b[0m\n\u001b[1;32m      5\u001b[0m \u001b[0;31m# Show the mol file, tell that we'll explain what it is and what molblock is in just a few minutes\u001b[0m\u001b[0;34m\u001b[0m\u001b[0;34m\u001b[0m\u001b[0;34m\u001b[0m\u001b[0m\n\u001b[0;32m----> 6\u001b[0;31m \u001b[0mm\u001b[0m \u001b[0;34m=\u001b[0m \u001b[0mChem\u001b[0m\u001b[0;34m.\u001b[0m\u001b[0mMolFromMolFile\u001b[0m\u001b[0;34m(\u001b[0m\u001b[0;34m'benzene.mol'\u001b[0m\u001b[0;34m)\u001b[0m\u001b[0;34m\u001b[0m\u001b[0;34m\u001b[0m\u001b[0m\n\u001b[0m\u001b[1;32m      7\u001b[0m \u001b[0;34m\u001b[0m\u001b[0m\n\u001b[1;32m      8\u001b[0m \u001b[0mstringWithMolData\u001b[0m\u001b[0;34m=\u001b[0m\u001b[0mopen\u001b[0m\u001b[0;34m(\u001b[0m\u001b[0;34m'benzene.mol'\u001b[0m\u001b[0;34m,\u001b[0m\u001b[0;34m'r'\u001b[0m\u001b[0;34m)\u001b[0m\u001b[0;34m.\u001b[0m\u001b[0mread\u001b[0m\u001b[0;34m(\u001b[0m\u001b[0;34m)\u001b[0m\u001b[0;34m\u001b[0m\u001b[0;34m\u001b[0m\u001b[0m\n",
            "\u001b[0;31mOSError\u001b[0m: Bad input file benzene.mol"
          ]
        }
      ],
      "source": [
        "# A molecule can be constructed through multiple approaches\n",
        "\n",
        "m = Chem.MolFromSmiles('c1ccccc1')\n",
        "\n",
        "# Show the mol file, tell that we'll explain what it is and what molblock is in just a few minutes\n",
        "m = Chem.MolFromMolFile('benzene.mol')\n",
        "\n",
        "stringWithMolData=open('benzene.mol','r').read()\n",
        "m = Chem.MolFromMolBlock(stringWithMolData)\n",
        "\n",
        "# All of these functions return a rdkit.Chem.rdchem.Mol object on success\n",
        "print(type(m))\n",
        "\n",
        "# All of these functions return None on failure\n",
        "m = Chem.MolFromSmiles('c1cc')\n",
        "print(type(m))"
      ]
    },
    {
      "cell_type": "markdown",
      "source": [
        "### Constructing sets of molecules"
      ],
      "metadata": {
        "id": "W-q7RCSVh-w5"
      }
    },
    {
      "cell_type": "code",
      "source": [
        "suppl = Chem.SDMolSupplier('biogenic.sdf')\n",
        "print(suppl[0])\n",
        "print(suppl[0].GetPropsAsDict())\n",
        "\n",
        "# Explain how SDF files work by opening biogenic.sdf\n",
        "\n",
        "# Header block to give information about the file\n",
        "# Count line block to give the overall number of the atoms and of the bonds and other info\n",
        "# The following lines contain the x-, y-, and z-coordinates and the atom types of each atom in the molecule.\n",
        "# At the end, the bonds between the atoms are described\n",
        "# Additional information about the molecule can be included after the M END-line. The type of information is displayed in brackets, e.g. > <IDENTIFIER NAME>.\n",
        "# $$$$ to denote end of molecule"
      ],
      "metadata": {
        "id": "GQnyXHtthrEt"
      },
      "execution_count": null,
      "outputs": []
    },
    {
      "cell_type": "markdown",
      "source": [
        "### Exporting/Writing molecules"
      ],
      "metadata": {
        "id": "zkOnMK86nV0m"
      }
    },
    {
      "cell_type": "code",
      "source": [
        "m = Chem.MolFromSmiles('c1ccccc1')\n",
        "\n",
        "print(type(m))\n",
        "\n",
        "\n",
        "# MolToSmiles gives the canonical SMILES, so  the output would be the same regardless of the input\n",
        "smiles_1 = Chem.MolToSmiles(Chem.MolFromSmiles('C1=CC=CN=C1'))\n",
        "smiles_2 = Chem.MolToSmiles(Chem.MolFromSmiles('c1cccnc1'))\n",
        "smiles_3 = Chem.MolToSmiles(Chem.MolFromSmiles('n1ccccc1'))\n",
        "print(smiles_1, smiles_2, smiles_3)\n",
        "\n",
        "\n",
        "# If you want to have the Kekule form, then use the kekuleSmiles parameter\n",
        "smiles = Chem.MolToSmiles(m, kekuleSmiles = True)\n",
        "print(smiles)"
      ],
      "metadata": {
        "id": "4NjM7arNnKem"
      },
      "execution_count": null,
      "outputs": []
    },
    {
      "cell_type": "code",
      "source": [
        "# You can also get the mol block of a molecule\n",
        "\n",
        "print(Chem.MolToMolBlock(m))\n",
        "\n",
        "# You can add the name of the molecule in the header\n",
        "m.SetProp(\"_Name\",\"benzene\")\n",
        "print(Chem.MolToMolBlock(m))"
      ],
      "metadata": {
        "id": "jG24dWKmogGG"
      },
      "execution_count": null,
      "outputs": []
    },
    {
      "cell_type": "code",
      "source": [
        "# In order for atom or bond stereochemistry to be recognised correctly by most software, it’s essential that the mol block have atomic coordinates\n",
        "# It’s also convenient for many reasons, such as drawing the molecules\n",
        "# Generating a mol block for a molecule that does not have coordinates will, by default, automatically cause coordinates to be generated\n",
        "# These are not, however, stored with the molecule. We have to use the AllChem module to generate the 3D coordinates\n",
        "\n",
        "from rdkit.Chem import AllChem\n",
        "AllChem.Compute2DCoords(m)\n",
        "print(Chem.MolToMolBlock(m))\n",
        "\n",
        "# The Hydrogen atoms are implicit in the molecule, you can add them explicitly through\n",
        "m1 = Chem.AddHs(m)\n",
        "print(Chem.MolToMolBlock(m1))\n",
        "\n",
        "# You can remove the Hydrogen atoms easily too. You would want to add the Hydrogens if you're computing the 3D coordinates for example\n",
        "m2 = Chem.RemoveHs(m1)\n",
        "print(Chem.MolToMolBlock(m2))"
      ],
      "metadata": {
        "id": "GwuCwVxbpi5b"
      },
      "execution_count": null,
      "outputs": []
    },
    {
      "cell_type": "markdown",
      "source": [
        "## Molecule Properties"
      ],
      "metadata": {
        "id": "EiSVo1SrnYHz"
      }
    },
    {
      "cell_type": "code",
      "source": [
        "mol = Chem.MolFromSmiles('c1ccccc1')\n",
        "print(f\"The molecule has {mol.GetNumAtoms()} atoms\")"
      ],
      "metadata": {
        "id": "fx0fqxISnbIw"
      },
      "execution_count": null,
      "outputs": []
    },
    {
      "cell_type": "code",
      "source": [
        "# Once you have the molecule, you can loop over its atoms and bonds\n",
        "\n",
        "for atom in mol.GetAtoms():\n",
        "  print(atom.GetAtomicNum())\n",
        "\n",
        "for bond in mol.GetBonds():\n",
        "  print(bond.GetBondType())\n",
        "\n",
        "print()\n",
        "\n",
        "# You can also query individual bonds or atoms\n",
        "mol.GetAtomWithIdx(0).GetSymbol()\n",
        "mol.GetAtomWithIdx(0).GetExplicitValence()\n",
        "mol.GetBondWithIdx(0).GetBeginAtomIdx()\n",
        "mol.GetBondWithIdx(0).GetEndAtomIdx()\n",
        "\n",
        "# You can also get the neighbours of a particular atom in a molecule\n",
        "atom = mol.GetAtomWithIdx(0)\n",
        "print([x.GetAtomicNum() for x in atom.GetNeighbors()])\n",
        "\n",
        "# Atoms and bonds both carry information about the molecule’s rings:\n",
        "print(mol.GetAtomWithIdx(0).IsInRing())"
      ],
      "metadata": {
        "id": "1_zqcCQRq52L"
      },
      "execution_count": null,
      "outputs": []
    },
    {
      "cell_type": "code",
      "source": [
        "Exercise\n",
        "\n",
        "For \"COc1ccc(C=NNC2=NC(=O)C(CC(=O)NC(C)C)S2)cc1\", print all the bonds between a carbon and an oxygen atom\n",
        "\n"
      ],
      "metadata": {
        "id": "rZeEUCqdmvKt"
      },
      "execution_count": null,
      "outputs": []
    },
    {
      "cell_type": "markdown",
      "source": [
        "### Modifying Molecules"
      ],
      "metadata": {
        "id": "eGCeMmxBrxIe"
      }
    },
    {
      "cell_type": "code",
      "source": [
        "# You can remove or add explicit Hydrogens in the molecule as we saw earlier. This helps when you're trying to optimize the 3D geometry for e.g.\n",
        "\n",
        "m=Chem.MolFromSmiles('CCO')\n",
        "print(m.GetNumAtoms())\n",
        "\n",
        "m2 = Chem.AddHs(m)\n",
        "print(m2.GetNumAtoms())\n",
        "\n",
        "m3 = Chem.RemoveHs(m2)\n",
        "print(m3.GetNumAtoms())"
      ],
      "metadata": {
        "id": "ekmVXXBor1UM"
      },
      "execution_count": null,
      "outputs": []
    },
    {
      "cell_type": "code",
      "source": [
        "# Bonds in the aromatic rings of molecules are stored as the aromatic bond type\n",
        "\n",
        "mol = Chem.MolFromSmiles('c1ccccc1')\n",
        "print(mol.GetBondWithIdx(0).GetBondType())\n",
        "\n",
        "# Kekulize the molecule to split up the bonds involved in the aromatic rings to single and double bonds. They are still flagged as aromatic bonds\n",
        "Chem.Kekulize(mol)\n",
        "print(mol.GetBondWithIdx(0).GetBondType(), mol.GetBondWithIdx(0).GetIsAromatic())\n",
        "print(mol.GetBondWithIdx(1).GetBondType(), mol.GetBondWithIdx(1).GetIsAromatic())"
      ],
      "metadata": {
        "id": "vRF38-34sO2T"
      },
      "execution_count": null,
      "outputs": []
    },
    {
      "cell_type": "markdown",
      "source": [
        "### Displaying Molecules"
      ],
      "metadata": {
        "id": "ZtswYKVgtFpe"
      }
    },
    {
      "cell_type": "code",
      "source": [
        "suppl = Chem.SDMolSupplier('biogenic.sdf')\n",
        "mols = [x for x in suppl if x is not None]\n",
        "\n",
        "img = Draw.MolsToGridImage(mols[:10])\n",
        "display(img)"
      ],
      "metadata": {
        "id": "gXAtno_YtFTD"
      },
      "execution_count": null,
      "outputs": []
    },
    {
      "cell_type": "code",
      "source": [
        "img = Draw.MolsToGridImage(mols[:10],molsPerRow=5)\n",
        "display(img)"
      ],
      "metadata": {
        "id": "XvMunFyQuGzq"
      },
      "execution_count": null,
      "outputs": []
    },
    {
      "cell_type": "code",
      "source": [
        "img = Draw.MolsToGridImage(mols[:10],molsPerRow=5, legends=[x.GetProp('zinc_id') for x in mols])\n",
        "display(img)"
      ],
      "metadata": {
        "id": "wwTEvlvquMdI"
      },
      "execution_count": null,
      "outputs": []
    },
    {
      "cell_type": "markdown",
      "source": [
        "### Substructure Searching"
      ],
      "metadata": {
        "id": "ykoTFX9uunMa"
      }
    },
    {
      "cell_type": "code",
      "source": [
        "from rdkit.Chem.Draw import rdMolDraw2D\n",
        "from IPython.display import SVG\n",
        "\n",
        "\n",
        "smi = 'COc1ccc(C=NNC2=NC(=O)C(CC(=O)NC(C)C)S2)cc1'\n",
        "mol = Chem.MolFromSmiles(smi)\n",
        "patt = Chem.MolFromSmarts('[CX3](=[OX1])C')\n",
        "hit_ats = list(mol.GetSubstructMatch(patt))\n",
        "hit_bonds = []\n",
        "for bond in patt.GetBonds():\n",
        "    aid1 = hit_ats[bond.GetBeginAtomIdx()]\n",
        "    aid2 = hit_ats[bond.GetEndAtomIdx()]\n",
        "    hit_bonds.append(mol.GetBondBetweenAtoms(aid1,aid2).GetIdx())\n",
        "\n",
        "\n",
        "d = rdMolDraw2D.MolDraw2DSVG(500, 500)\n",
        "rdMolDraw2D.PrepareAndDrawMolecule(d, mol, highlightAtoms=hit_ats,\n",
        "                                   highlightBonds=hit_bonds)\n",
        "d.FinishDrawing()\n",
        "SVG(d.GetDrawingText())"
      ],
      "metadata": {
        "id": "HKGlIv8EuonD",
        "outputId": "a21386c6-f833-4e7e-af9b-46c1c8008126",
        "colab": {
          "base_uri": "https://localhost:8080/",
          "height": 373
        }
      },
      "execution_count": null,
      "outputs": [
        {
          "output_type": "error",
          "ename": "ModuleNotFoundError",
          "evalue": "ignored",
          "traceback": [
            "\u001b[0;31m---------------------------------------------------------------------------\u001b[0m",
            "\u001b[0;31mModuleNotFoundError\u001b[0m                       Traceback (most recent call last)",
            "\u001b[0;32m<ipython-input-1-9a4e66a75080>\u001b[0m in \u001b[0;36m<module>\u001b[0;34m()\u001b[0m\n\u001b[0;32m----> 1\u001b[0;31m \u001b[0;32mfrom\u001b[0m \u001b[0mrdkit\u001b[0m\u001b[0;34m.\u001b[0m\u001b[0mChem\u001b[0m\u001b[0;34m.\u001b[0m\u001b[0mDraw\u001b[0m \u001b[0;32mimport\u001b[0m \u001b[0mrdMolDraw2D\u001b[0m\u001b[0;34m\u001b[0m\u001b[0;34m\u001b[0m\u001b[0m\n\u001b[0m\u001b[1;32m      2\u001b[0m \u001b[0;32mfrom\u001b[0m \u001b[0mIPython\u001b[0m\u001b[0;34m.\u001b[0m\u001b[0mdisplay\u001b[0m \u001b[0;32mimport\u001b[0m \u001b[0mSVG\u001b[0m\u001b[0;34m\u001b[0m\u001b[0;34m\u001b[0m\u001b[0m\n\u001b[1;32m      3\u001b[0m \u001b[0;34m\u001b[0m\u001b[0m\n\u001b[1;32m      4\u001b[0m \u001b[0;34m\u001b[0m\u001b[0m\n\u001b[1;32m      5\u001b[0m \u001b[0msmi\u001b[0m \u001b[0;34m=\u001b[0m \u001b[0;34m'COc1ccc(C=NNC2=NC(=O)C(CC(=O)NC(C)C)S2)cc1'\u001b[0m\u001b[0;34m\u001b[0m\u001b[0;34m\u001b[0m\u001b[0m\n",
            "\u001b[0;31mModuleNotFoundError\u001b[0m: No module named 'rdkit'",
            "",
            "\u001b[0;31m---------------------------------------------------------------------------\u001b[0;32m\nNOTE: If your import is failing due to a missing package, you can\nmanually install dependencies using either !pip or !apt.\n\nTo view examples of installing some common dependencies, click the\n\"Open Examples\" button below.\n\u001b[0;31m---------------------------------------------------------------------------\u001b[0m\n"
          ],
          "errorDetails": {
            "actions": [
              {
                "action": "open_url",
                "actionText": "Open Examples",
                "url": "/notebooks/snippets/importing_libraries.ipynb"
              }
            ]
          }
        }
      ]
    },
    {
      "cell_type": "code",
      "source": [
        "Exercise\n",
        "\n",
        "Find the SMARTS string that represents a ketone, and display the substructure in a molecule of yo"
      ],
      "metadata": {
        "id": "D5ibuZj3nIpS"
      },
      "execution_count": null,
      "outputs": []
    },
    {
      "cell_type": "markdown",
      "source": [
        "### Molecular Descriptors"
      ],
      "metadata": {
        "id": "o0bZ9sw1ukYj"
      }
    },
    {
      "cell_type": "code",
      "source": [
        "from rdkit.Chem import Descriptors\n",
        "\n",
        "m = Chem.MolFromSmiles(r'COc1ccc(C=NNC2=NC(=O)C(CC(=O)NC(C)C)S2)cc1')\n",
        "img = Draw.MolsToGridImage([m])\n",
        "display(img)\n",
        "\n",
        "print(Descriptors.MolLogP(m), Descriptors.TPSA(m), Descriptors.NumRotatableBonds(m))"
      ],
      "metadata": {
        "id": "7vru0TzGujpm"
      },
      "execution_count": null,
      "outputs": []
    },
    {
      "cell_type": "markdown",
      "source": [
        "### Generating 3D Conformers"
      ],
      "metadata": {
        "id": "GmJzXPSRwaLb"
      }
    },
    {
      "cell_type": "code",
      "source": [
        "m = Chem.MolFromSmiles(r'COc1ccc(C=NNC2=NC(=O)C(CC(=O)NC(C)C)S2)cc1')\n",
        "m = Chem.AddHs(m) # Add Hs to the molecule before generating the conformers\n",
        "\n",
        "AllChem.EmbedMolecule(m,randomSeed=0xf00d,useExpTorsionAnglePrefs=True,useBasicKnowledge=True)\n",
        "print(m.GetNumConformers())\n",
        "\n",
        "cids = AllChem.EmbedMultipleConfs(m,10,pruneRmsThresh=1.0,randomSeed=0xf00d,\n",
        "                           useExpTorsionAnglePrefs=True,useBasicKnowledge=True)\n",
        "print(m.GetNumConformers())\n",
        "\n",
        "conf = m.GetConformer(cids[0])\n",
        "print(conf.GetPositions())"
      ],
      "metadata": {
        "id": "-8OuoLV_weIS"
      },
      "execution_count": null,
      "outputs": []
    },
    {
      "cell_type": "markdown",
      "source": [
        "## Using MMFF94 force field to minimize the energy of a conformer"
      ],
      "metadata": {
        "id": "zuUUdTlLxLFn"
      }
    },
    {
      "cell_type": "code",
      "source": [
        "m = Chem.MolFromSmiles(r'COc1ccc(C=NNC2=NC(=O)C(CC(=O)NC(C)C)S2)cc1')\n",
        "m = Chem.AddHs(m) # Add Hs to the molecule before generating the conformers\n",
        "\n",
        "AllChem.EmbedMolecule(m,randomSeed=0xf00d,useExpTorsionAnglePrefs=True,useBasicKnowledge=True)\n",
        "print(m.GetNumConformers())\n",
        "\n",
        "AllChem.EmbedMolecule(m)\n",
        "AllChem.MMFFOptimizeMolecule(m)\n",
        "\n",
        "for c in m.GetConformers():\n",
        "  print(c.GetPositions())"
      ],
      "metadata": {
        "id": "SJbkQ1fgxQVj"
      },
      "execution_count": null,
      "outputs": []
    },
    {
      "cell_type": "markdown",
      "source": [
        "# Molecule Features and Fingerprints\n"
      ],
      "metadata": {
        "id": "VsR9PchvZlll"
      }
    },
    {
      "cell_type": "markdown",
      "source": [
        "![image.png](data:image/png;base64,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)"
      ],
      "metadata": {
        "id": "LkHBvsEGrSxT"
      }
    },
    {
      "cell_type": "markdown",
      "source": [
        "Details of RDKit Fingerprinting: https://rdkit.org/UGM/2012/Landrum_RDKit_UGM.Fingerprints.Final.pptx.pdf\n",
        "\n",
        "There are many different methods for doing the same. For now we stick with RDKit Fingerprints. Fingerprints attempt to characterize local features and subgraphs.\n",
        "\n",
        "Matching subgraphs, a.k.a. subgraph isomorphism, is an NP-complete problem."
      ],
      "metadata": {
        "id": "nVh7omIMEow2"
      }
    },
    {
      "cell_type": "markdown",
      "source": [
        "## RDKit Fingerprint Algorithm\n",
        "\n",
        "* Substructure fingerprint\n",
        "* Atom types: set by atomic number and aromaticity\n",
        "* Bond types: set by atom types and bond types\n",
        "\n",
        "Algorithm:\n",
        "For each subgraph (or path, if `branchedPaths` is false) of length `minPath - maxPath` bonds:\n",
        "1. Generate hash for the path using bond types and each bond’s neighbor count\n",
        "2. seed random-number generator with hash\n",
        "3. generate `nBitsPerHash` random numbers between 0 and fpSize and set the corresponding bits\n",
        "4. [optional]: “fold” fingerprint to target density of `tgtDensity` of bits set (minimum size `minSize` bits)"
      ],
      "metadata": {
        "id": "6Nf-22xkgpod"
      }
    },
    {
      "cell_type": "code",
      "source": [
        "mol = rdkit.Chem.MolFromSmiles(\"C(C)(C)NC(=O)NO\")\n",
        "fingerprint = rdkit.Chem.RDKFingerprint(mol)\n",
        "print(\"Number of Bits:\", fingerprint.GetNumBits())\n",
        "print(\"Number of On Bits:\", fingerprint.GetNumOnBits())\n",
        "array = np.array([float(digit) for digit in fingerprint.ToBitString()])\n",
        "print(\"Full Bit String:\", array)"
      ],
      "metadata": {
        "id": "k8XE9GvwaA6l",
        "colab": {
          "base_uri": "https://localhost:8080/"
        },
        "outputId": "f0249c7c-091c-473f-c81c-307c6d29551a"
      },
      "execution_count": null,
      "outputs": [
        {
          "output_type": "stream",
          "name": "stdout",
          "text": [
            "Number of Bits: 2048\n",
            "Number of On Bits: 63\n",
            "Full Bit String: [0. 0. 0. ... 0. 0. 1.]\n"
          ]
        }
      ]
    },
    {
      "cell_type": "markdown",
      "source": [
        "## Fingerprints for predicting Solvation Energy\n"
      ],
      "metadata": {
        "id": "q-XPWB7UaBRS"
      }
    },
    {
      "cell_type": "code",
      "source": [
        "df = pd.read_csv(\"freesolv_database.csv\", sep=';')\n",
        "df.head()"
      ],
      "metadata": {
        "colab": {
          "base_uri": "https://localhost:8080/",
          "height": 617
        },
        "id": "rryPBBzHHXRV",
        "outputId": "b24fe543-6a32-47e6-8057-9ea16c4769f2"
      },
      "execution_count": null,
      "outputs": [
        {
          "output_type": "execute_result",
          "data": {
            "text/plain": [
              "  compound id (and file prefix)                                   SMILES  \\\n",
              "0                mobley_1017962                             CCCCCC(=O)OC   \n",
              "1                mobley_1019269                                    CCCCO   \n",
              "2                mobley_1034539   c1cc(c(cc1c2cc(c(c(c2Cl)Cl)Cl)Cl)Cl)Cl   \n",
              "3                mobley_1036761                              C1CCC(CC1)N   \n",
              "4                mobley_1046331                           c1ccc(cc1)OC=O   \n",
              "\n",
              "  iupac name (or alternative if IUPAC is unavailable or not parseable by OEChem)  \\\n",
              "0                                   methyl hexanoate                               \n",
              "1                                         butan-1-ol                               \n",
              "2   1,2,3,4-tetrachloro-5-(3,4-dichlorophenyl)ben...                               \n",
              "3                                    cyclohexanamine                               \n",
              "4                                     phenyl formate                               \n",
              "\n",
              "   experimental value (kcal/mol)  experimental uncertainty (kcal/mol)  \\\n",
              "0                          -2.49                                  0.6   \n",
              "1                          -4.72                                  0.6   \n",
              "2                          -3.04                                  0.1   \n",
              "3                          -4.59                                  0.6   \n",
              "4                          -3.82                                  0.6   \n",
              "\n",
              "   Mobley group calculated value (GAFF) (kcal/mol)  \\\n",
              "0                                            -3.30   \n",
              "1                                            -3.23   \n",
              "2                                            -1.08   \n",
              "3                                            -3.95   \n",
              "4                                            -5.44   \n",
              "\n",
              "   calculated uncertainty (kcal/mol)  \\\n",
              "0                               0.03   \n",
              "1                               0.03   \n",
              "2                               0.04   \n",
              "3                               0.03   \n",
              "4                               0.03   \n",
              "\n",
              "  experimental reference (original or paper this value was taken from)  \\\n",
              "0                                  10.1021/ct050097l                     \n",
              "1                                  10.1021/ct050097l                     \n",
              "2                          10.1007/s10822-012-9568-8                     \n",
              "3                                  10.1021/ct050097l                     \n",
              "4   J. Peter Guthrie, unpublished data, as provid...                     \n",
              "\n",
              "         calculated reference  \\\n",
              "0           10.1021/ct800409d   \n",
              "1           10.1021/ct800409d   \n",
              "2   10.1007/s10822-011-9528-8   \n",
              "3           10.1021/ct800409d   \n",
              "4           10.1021/ct800409d   \n",
              "\n",
              "                                         text notes.  \n",
              "0   Experimental uncertainty not presently availa...  \n",
              "1   Experimental uncertainty not presently availa...  \n",
              "2   Experimental uncertainty not presently availa...  \n",
              "3   Experimental uncertainty not presently availa...  \n",
              "4   Experimental uncertainty not presently availa...  "
            ],
            "text/html": [
              "\n",
              "  <div id=\"df-f94a286a-d085-454b-9322-42b5868df118\">\n",
              "    <div class=\"colab-df-container\">\n",
              "      <div>\n",
              "<style scoped>\n",
              "    .dataframe tbody tr th:only-of-type {\n",
              "        vertical-align: middle;\n",
              "    }\n",
              "\n",
              "    .dataframe tbody tr th {\n",
              "        vertical-align: top;\n",
              "    }\n",
              "\n",
              "    .dataframe thead th {\n",
              "        text-align: right;\n",
              "    }\n",
              "</style>\n",
              "<table border=\"1\" class=\"dataframe\">\n",
              "  <thead>\n",
              "    <tr style=\"text-align: right;\">\n",
              "      <th></th>\n",
              "      <th>compound id (and file prefix)</th>\n",
              "      <th>SMILES</th>\n",
              "      <th>iupac name (or alternative if IUPAC is unavailable or not parseable by OEChem)</th>\n",
              "      <th>experimental value (kcal/mol)</th>\n",
              "      <th>experimental uncertainty (kcal/mol)</th>\n",
              "      <th>Mobley group calculated value (GAFF) (kcal/mol)</th>\n",
              "      <th>calculated uncertainty (kcal/mol)</th>\n",
              "      <th>experimental reference (original or paper this value was taken from)</th>\n",
              "      <th>calculated reference</th>\n",
              "      <th>text notes.</th>\n",
              "    </tr>\n",
              "  </thead>\n",
              "  <tbody>\n",
              "    <tr>\n",
              "      <th>0</th>\n",
              "      <td>mobley_1017962</td>\n",
              "      <td>CCCCCC(=O)OC</td>\n",
              "      <td>methyl hexanoate</td>\n",
              "      <td>-2.49</td>\n",
              "      <td>0.6</td>\n",
              "      <td>-3.30</td>\n",
              "      <td>0.03</td>\n",
              "      <td>10.1021/ct050097l</td>\n",
              "      <td>10.1021/ct800409d</td>\n",
              "      <td>Experimental uncertainty not presently availa...</td>\n",
              "    </tr>\n",
              "    <tr>\n",
              "      <th>1</th>\n",
              "      <td>mobley_1019269</td>\n",
              "      <td>CCCCO</td>\n",
              "      <td>butan-1-ol</td>\n",
              "      <td>-4.72</td>\n",
              "      <td>0.6</td>\n",
              "      <td>-3.23</td>\n",
              "      <td>0.03</td>\n",
              "      <td>10.1021/ct050097l</td>\n",
              "      <td>10.1021/ct800409d</td>\n",
              "      <td>Experimental uncertainty not presently availa...</td>\n",
              "    </tr>\n",
              "    <tr>\n",
              "      <th>2</th>\n",
              "      <td>mobley_1034539</td>\n",
              "      <td>c1cc(c(cc1c2cc(c(c(c2Cl)Cl)Cl)Cl)Cl)Cl</td>\n",
              "      <td>1,2,3,4-tetrachloro-5-(3,4-dichlorophenyl)ben...</td>\n",
              "      <td>-3.04</td>\n",
              "      <td>0.1</td>\n",
              "      <td>-1.08</td>\n",
              "      <td>0.04</td>\n",
              "      <td>10.1007/s10822-012-9568-8</td>\n",
              "      <td>10.1007/s10822-011-9528-8</td>\n",
              "      <td>Experimental uncertainty not presently availa...</td>\n",
              "    </tr>\n",
              "    <tr>\n",
              "      <th>3</th>\n",
              "      <td>mobley_1036761</td>\n",
              "      <td>C1CCC(CC1)N</td>\n",
              "      <td>cyclohexanamine</td>\n",
              "      <td>-4.59</td>\n",
              "      <td>0.6</td>\n",
              "      <td>-3.95</td>\n",
              "      <td>0.03</td>\n",
              "      <td>10.1021/ct050097l</td>\n",
              "      <td>10.1021/ct800409d</td>\n",
              "      <td>Experimental uncertainty not presently availa...</td>\n",
              "    </tr>\n",
              "    <tr>\n",
              "      <th>4</th>\n",
              "      <td>mobley_1046331</td>\n",
              "      <td>c1ccc(cc1)OC=O</td>\n",
              "      <td>phenyl formate</td>\n",
              "      <td>-3.82</td>\n",
              "      <td>0.6</td>\n",
              "      <td>-5.44</td>\n",
              "      <td>0.03</td>\n",
              "      <td>J. Peter Guthrie, unpublished data, as provid...</td>\n",
              "      <td>10.1021/ct800409d</td>\n",
              "      <td>Experimental uncertainty not presently availa...</td>\n",
              "    </tr>\n",
              "  </tbody>\n",
              "</table>\n",
              "</div>\n",
              "      <button class=\"colab-df-convert\" onclick=\"convertToInteractive('df-f94a286a-d085-454b-9322-42b5868df118')\"\n",
              "              title=\"Convert this dataframe to an interactive table.\"\n",
              "              style=\"display:none;\">\n",
              "        \n",
              "  <svg xmlns=\"http://www.w3.org/2000/svg\" height=\"24px\"viewBox=\"0 0 24 24\"\n",
              "       width=\"24px\">\n",
              "    <path d=\"M0 0h24v24H0V0z\" fill=\"none\"/>\n",
              "    <path d=\"M18.56 5.44l.94 2.06.94-2.06 2.06-.94-2.06-.94-.94-2.06-.94 2.06-2.06.94zm-11 1L8.5 8.5l.94-2.06 2.06-.94-2.06-.94L8.5 2.5l-.94 2.06-2.06.94zm10 10l.94 2.06.94-2.06 2.06-.94-2.06-.94-.94-2.06-.94 2.06-2.06.94z\"/><path d=\"M17.41 7.96l-1.37-1.37c-.4-.4-.92-.59-1.43-.59-.52 0-1.04.2-1.43.59L10.3 9.45l-7.72 7.72c-.78.78-.78 2.05 0 2.83L4 21.41c.39.39.9.59 1.41.59.51 0 1.02-.2 1.41-.59l7.78-7.78 2.81-2.81c.8-.78.8-2.07 0-2.86zM5.41 20L4 18.59l7.72-7.72 1.47 1.35L5.41 20z\"/>\n",
              "  </svg>\n",
              "      </button>\n",
              "      \n",
              "  <style>\n",
              "    .colab-df-container {\n",
              "      display:flex;\n",
              "      flex-wrap:wrap;\n",
              "      gap: 12px;\n",
              "    }\n",
              "\n",
              "    .colab-df-convert {\n",
              "      background-color: #E8F0FE;\n",
              "      border: none;\n",
              "      border-radius: 50%;\n",
              "      cursor: pointer;\n",
              "      display: none;\n",
              "      fill: #1967D2;\n",
              "      height: 32px;\n",
              "      padding: 0 0 0 0;\n",
              "      width: 32px;\n",
              "    }\n",
              "\n",
              "    .colab-df-convert:hover {\n",
              "      background-color: #E2EBFA;\n",
              "      box-shadow: 0px 1px 2px rgba(60, 64, 67, 0.3), 0px 1px 3px 1px rgba(60, 64, 67, 0.15);\n",
              "      fill: #174EA6;\n",
              "    }\n",
              "\n",
              "    [theme=dark] .colab-df-convert {\n",
              "      background-color: #3B4455;\n",
              "      fill: #D2E3FC;\n",
              "    }\n",
              "\n",
              "    [theme=dark] .colab-df-convert:hover {\n",
              "      background-color: #434B5C;\n",
              "      box-shadow: 0px 1px 3px 1px rgba(0, 0, 0, 0.15);\n",
              "      filter: drop-shadow(0px 1px 2px rgba(0, 0, 0, 0.3));\n",
              "      fill: #FFFFFF;\n",
              "    }\n",
              "  </style>\n",
              "\n",
              "      <script>\n",
              "        const buttonEl =\n",
              "          document.querySelector('#df-f94a286a-d085-454b-9322-42b5868df118 button.colab-df-convert');\n",
              "        buttonEl.style.display =\n",
              "          google.colab.kernel.accessAllowed ? 'block' : 'none';\n",
              "\n",
              "        async function convertToInteractive(key) {\n",
              "          const element = document.querySelector('#df-f94a286a-d085-454b-9322-42b5868df118');\n",
              "          const dataTable =\n",
              "            await google.colab.kernel.invokeFunction('convertToInteractive',\n",
              "                                                     [key], {});\n",
              "          if (!dataTable) return;\n",
              "\n",
              "          const docLinkHtml = 'Like what you see? Visit the ' +\n",
              "            '<a target=\"_blank\" href=https://colab.research.google.com/notebooks/data_table.ipynb>data table notebook</a>'\n",
              "            + ' to learn more about interactive tables.';\n",
              "          element.innerHTML = '';\n",
              "          dataTable['output_type'] = 'display_data';\n",
              "          await google.colab.output.renderOutput(dataTable, element);\n",
              "          const docLink = document.createElement('div');\n",
              "          docLink.innerHTML = docLinkHtml;\n",
              "          element.appendChild(docLink);\n",
              "        }\n",
              "      </script>\n",
              "    </div>\n",
              "  </div>\n",
              "  "
            ]
          },
          "metadata": {},
          "execution_count": 6
        }
      ]
    },
    {
      "cell_type": "markdown",
      "source": [
        "Now for each of the molecules we need to compute molecular features, which are the fingerprints. We do it and stack them up to make our inputs matrix."
      ],
      "metadata": {
        "id": "QjBmsK4qDOAa"
      }
    },
    {
      "cell_type": "code",
      "source": [
        "def featurize(smiles):\n",
        "    molecule = rdkit.Chem.MolFromSmiles(smiles)\n",
        "    fingerprint = rdkit.Chem.RDKFingerprint(molecule)\n",
        "    x = np.array(\n",
        "        [float(digit) for digit in fingerprint.ToBitString()],\n",
        "        dtype=np.float32,\n",
        "    )\n",
        "    return x\n",
        "\n",
        "\n",
        "x = np.stack(df['SMILES'].apply(featurize).values)\n",
        "y = df['experimental value (kcal/mol)'].values"
      ],
      "metadata": {
        "id": "zAoE4FvkIkpc"
      },
      "execution_count": null,
      "outputs": []
    },
    {
      "cell_type": "markdown",
      "source": [
        "We perform linear regression on this feature matrix. Eventually, we "
      ],
      "metadata": {
        "id": "JflAFKo8Daeh"
      }
    },
    {
      "cell_type": "code",
      "source": [
        ""
      ],
      "metadata": {
        "id": "ij5yPiupYAxB"
      },
      "execution_count": null,
      "outputs": []
    },
    {
      "cell_type": "code",
      "source": [
        "model = sklearn.linear_model.LinearRegression()\n",
        "x_train, x_test, y_train, y_test = sklearn.model_selection.train_test_split(\n",
        "    x, y, test_size=0.2\n",
        ")\n",
        "model.fit(x_train, y_train)\n",
        "print(\"RMS error in Train Data:\", \n",
        "      np.mean(np.square(y_train - model.predict(x_train))))\n",
        "print(\"Variance in the Train Data:\", np.var(y_train))\n",
        "\n",
        "print(\"RMS error in Test Data:\", \n",
        "      np.mean(np.square(y_test - model.predict(x_test))))\n",
        "print(\"Variance in the Test Data:\", np.var(y_test))"
      ],
      "metadata": {
        "id": "PMZsmXXaK795",
        "colab": {
          "base_uri": "https://localhost:8080/"
        },
        "outputId": "17308029-5017-42cf-e0c8-b8488d061e73"
      },
      "execution_count": null,
      "outputs": [
        {
          "output_type": "stream",
          "name": "stdout",
          "text": [
            "RMS error in Train Data: 0.043842800468104036\n",
            "Variance in the Train Data: 15.893067779981527\n",
            "RMS error in Test Data: 2919.507691236721\n",
            "Variance in the Test Data: 10.024928586022474\n"
          ]
        }
      ]
    },
    {
      "cell_type": "markdown",
      "source": [
        "Learning linear transforms over features to predict solubility manages to overfit on training data, but fails badly on test data."
      ],
      "metadata": {
        "id": "Sno3oBh7jAac"
      }
    },
    {
      "cell_type": "markdown",
      "source": [
        "## Extended Connectivity Fingerprints\n",
        "\n",
        "1. Compute a unique index for each atom. This is a long integer hash made using the following features (Daylight atomic invariants)\n",
        "\n",
        "* Number of non-hydrogen immediate neighbors\n",
        "* Valency minus the number of connected hydrogens (i.e., total bond order ignoring H)\n",
        "* Atomic number\n",
        "* Atomic mass\n",
        "* Atomic charge\n",
        "* Number of attached hydrogens (both implicit and explicit)\n",
        "\n",
        "2. Aggregate information from neighboring atoms and bonds connecting to them and use it to compute new feature vector.\n",
        "\n",
        "    `[bond-order-1, atom-1-hash, bond-order-1, atom-2-hash, ...]`\n",
        "\n",
        "    We hash this list to generate the 1-st iteration features for the atoms. These features in the 1-st iteration grab information from radius 1, diameter 2. We repeat this proecss, the 2-nd iteration vector will have information from radius 2, diameter 4.\n",
        "\n",
        "    We do this for 2-3 iterations, leading to the different ECFP types, **ECFP-4, ECFP-6**, etc., depending on the diameter of data aggregation. \n",
        "    \n",
        "    We also keep track of which bonds and atoms are getting aggregated in each iteration, and we de-duplicate the same neighborhood being added as a feature from two different starting points.\n",
        "\n",
        "3. Given a target vector size, say 2048, take all the computed hashes over all iterations and find their values in this mod-field. i.e. `feature-id = hash-index % 2048`.\n",
        "\n",
        "    Marks these feature ids in a 2048 length bit-vector, which now represents a hashed list of unique atom features, and substructure features upto small radii.\n",
        "\n",
        "The following features are important to note about ECFP:\n",
        "* The Hydrogen atoms are not a part of the fingerprinting process.\n",
        "* ECFP depends on the hash function implementation of each programming language and therefore may differ in value from implementation to implementation.\n",
        "* ECFP-4 is sufficient for most clustering or similarity indexing tasks.\n",
        "* ECFP-6 or ECFP-8 might be needed for activity prediction tasks.\n",
        "\n",
        "\n",
        "Refer to https://chemicbook.com/2021/03/25/a-beginners-guide-for-understanding-extended-connectivity-fingerprints.html for a detailed explainiation."
      ],
      "metadata": {
        "id": "Ad72_DhIAKvG"
      }
    },
    {
      "cell_type": "code",
      "source": [
        "molecule = \"C1CCCC1\"\n",
        "\n",
        "fingerprint = np.asarray(\n",
        "    rdkit.Chem.AllChem.GetMorganFingerprintAsBitVect(\n",
        "        rdkit.Chem.MolFromSmiles(molecule),\n",
        "        radius=3,\n",
        "        nBits=32\n",
        "    )\n",
        ")\n",
        "\n",
        "print(\"Morgan Fingerprint of Benzene\", fingerprint)"
      ],
      "metadata": {
        "colab": {
          "base_uri": "https://localhost:8080/"
        },
        "id": "jarpSdhxhDI_",
        "outputId": "f1567970-bc01-4b40-e7a0-a78408f291d2"
      },
      "execution_count": null,
      "outputs": [
        {
          "output_type": "stream",
          "name": "stdout",
          "text": [
            "Morgan Fingerprint of Benzene [0 0 1 0 1 0 0 0 0 0 0 0 0 0 0 0 0 0 0 0 0 0 0 1 0 0 0 0 0 0 1 0]\n"
          ]
        }
      ]
    },
    {
      "cell_type": "markdown",
      "source": [
        "Morgan fingerprint is a type of ECFP."
      ],
      "metadata": {
        "id": "97-cD0zshyuv"
      }
    },
    {
      "cell_type": "markdown",
      "source": [
        "## Molecule Similarity"
      ],
      "metadata": {
        "id": "MQHF-G6hkhcB"
      }
    },
    {
      "cell_type": "markdown",
      "source": [
        "$$\\text{Travsky}_{a,b}(V_i, V_j) = \\frac{V_i \\cdot V_j}{a ||V_i||_1 + b ||V_j||_1 + (1 - a- b) V_i \\cdot V_j}$$\n",
        "\n",
        "Travsky similarity is the general framework in which all other fingerprint similarity measures fit."
      ],
      "metadata": {
        "id": "Ay6wp7uIUvCU"
      }
    },
    {
      "cell_type": "markdown",
      "source": [
        "$$\\text{Tanimoto}(V_i, V_j) = \\text{Travsky}_{1,1}(V_i, V_j)$$\n",
        "\n",
        "Tanimoto similarity is the ratio of the number of molecular features present in both molecules (intersection) over the number of molecular features present in either molecule (union).\n",
        "\n",
        "$$\\text{Tanimoto}(V_i, V_j) = \\frac{V_i \\cdot V_j}{||V_i||_1 + ||V_j||_1 - V_i \\cdot V_j}$$"
      ],
      "metadata": {
        "id": "DTcg3TjKVA4D"
      }
    },
    {
      "cell_type": "markdown",
      "source": [
        "$$\\text{Dice}(V_i, V_j) = \\text{Travsky}_{0.5,0.5}(V_i, V_j)$$\n",
        "\n",
        "Tanimoto similarity is the ratio of the number of molecular features present in both molecules (intersection) over the average number of molecular features present in both the molecules (mean of L1 norm).\n",
        "\n",
        "$$\\text{Dice}(V_i, V_j) = \\frac{V_i \\cdot V_j}{\\frac{1}{2} ||V_i||_1 + \\frac{1}{2} ||V_j||_1}$$"
      ],
      "metadata": {
        "id": "fTurDWxPVY8g"
      }
    },
    {
      "cell_type": "code",
      "source": [
        "def generate_molecule_data(batch_size=128):\n",
        "    smiles, data = [], []\n",
        "    with open(\"gdb11_size08.smi\", \"r\") as f:\n",
        "        for dataline in tqdm.tqdm(list(f.readlines())):\n",
        "            smile = dataline.split()[0]\n",
        "            molecule = rdkit.Chem.MolFromSmiles(smile)\n",
        "            fingerprint = rdkit.Chem.RDKFingerprint(molecule)\n",
        "            data.append(fingerprint)\n",
        "            smiles.append(smile)\n",
        "    return data, smiles"
      ],
      "metadata": {
        "id": "aLbCB2QIw67L"
      },
      "execution_count": null,
      "outputs": []
    },
    {
      "cell_type": "code",
      "source": [
        "fingerprints, smiles = generate_molecule_data()"
      ],
      "metadata": {
        "id": "u8hFxNtczkgL",
        "colab": {
          "base_uri": "https://localhost:8080/",
          "height": 49,
          "referenced_widgets": [
            "e0924cbfd0fb4a0285480dda4721e0ee",
            "15eebbc91332487cb1f1b5deda2089c5",
            "a7629cc78e3d469cbfa95b4d3a95b579",
            "8fd8df8e4cef4da2bc3cde59588364d5",
            "7779d5af168b47da98ede962bcf2df00",
            "30ed361c9b4c43489952297e4125364d",
            "c4c506f88bba45daa4ebfec2753e8bd4",
            "a6641831edd64633bcabe40789845b09",
            "a1ee68f363a04786ba31bfaf48c5e145",
            "f42c24beddb44ceeb808e26aa8b03072",
            "0f96e48f1dfe437397322b9740dd85b7"
          ]
        },
        "outputId": "b73a3ce0-608e-4b73-b777-e6874b4b81ab"
      },
      "execution_count": null,
      "outputs": [
        {
          "output_type": "display_data",
          "data": {
            "text/plain": [
              "  0%|          | 0/66706 [00:00<?, ?it/s]"
            ],
            "application/vnd.jupyter.widget-view+json": {
              "version_major": 2,
              "version_minor": 0,
              "model_id": "e0924cbfd0fb4a0285480dda4721e0ee"
            }
          },
          "metadata": {}
        }
      ]
    },
    {
      "cell_type": "code",
      "source": [
        "molecule_idx = np.random.randint(len(fingerprints))\n",
        "similarities = [\n",
        "    rdkit.DataStructs.FingerprintSimilarity(\n",
        "        fingerprints[molecule_idx],\n",
        "        fingerprint\n",
        "    )\n",
        "    for fingerprint in fingerprints\n",
        "]\n",
        "indexes = np.argsort(similarities)[::-1]"
      ],
      "metadata": {
        "id": "bGV2y_QwGh-O"
      },
      "execution_count": null,
      "outputs": []
    },
    {
      "cell_type": "code",
      "source": [
        "smiles[indexes[0]], smiles[molecule_idx]"
      ],
      "metadata": {
        "id": "OczUn46KHXnN",
        "colab": {
          "base_uri": "https://localhost:8080/"
        },
        "outputId": "69827aa4-c8eb-45bd-b6de-e73955fd3884"
      },
      "execution_count": null,
      "outputs": [
        {
          "output_type": "execute_result",
          "data": {
            "text/plain": [
              "('O=C1CC(CC#C)C1', 'O=C1CC(CC#C)C1')"
            ]
          },
          "metadata": {},
          "execution_count": 12
        }
      ]
    },
    {
      "cell_type": "code",
      "source": [
        "img = rdkit.Chem.Draw.MolsToGridImage(\n",
        "    [rdkit.Chem.MolFromSmiles(smile) for smile in smiles[:10]],\n",
        "    molsPerRow=5,\n",
        "    legends=smiles[:10]\n",
        ")\n",
        "img"
      ],
      "metadata": {
        "colab": {
          "base_uri": "https://localhost:8080/",
          "height": 374
        },
        "id": "sspTWTyRUGqK",
        "outputId": "39a398aa-3702-476b-b5a3-f78297ae5f87"
      },
      "execution_count": null,
      "outputs": [
        {
          "output_type": "execute_result",
          "data": {
            "text/plain": [
              "<PIL.PngImagePlugin.PngImageFile image mode=RGB size=1000x400 at 0x7F866E5A1E50>"
            ],
            "image/png": "[encoded data removed]"
          },
          "metadata": {},
          "execution_count": 13
        }
      ]
    },
    {
      "cell_type": "markdown",
      "source": [
        "## Exercise: Predict Log-p values"
      ],
      "metadata": {
        "id": "AwOB1N_PXIO9"
      }
    },
    {
      "cell_type": "code",
      "source": [
        "import rdkit.Chem.Crippen\n",
        "\n",
        "log_p = np.array([\n",
        "    rdkit.Chem.Crippen.MolLogP(rdkit.Chem.MolFromSmiles(smile))\n",
        "    for smile in tqdm.tqdm(smiles)\n",
        "], dtype=np.float32)"
      ],
      "metadata": {
        "colab": {
          "base_uri": "https://localhost:8080/",
          "height": 49,
          "referenced_widgets": [
            "de20e580835e4933b6b129d16feb7ff8",
            "d6b830a023cb4f37a803b4ba412562d5",
            "0e37ee02f05149c3aec59e744370f5b9",
            "8782e69a015a4711a68f09b5d33101be",
            "1be8c723879e4a8991214444b3551a0a",
            "99c21cf2188e4c4189d636495f8e8c96",
            "e19cf975d99441fda284cb5f129bd80e",
            "8d91eefcda5c4e66942dfaecbf81576d",
            "0b2ef47d5c7d41dca7259fb2207704be",
            "c259335cfec44e7f8a4c89566938cfaf",
            "00cd0c01c614475aac13cb33afb098da"
          ]
        },
        "id": "iT0oKJJ7XFY4",
        "outputId": "d04d9b52-4fb0-42e3-ffe7-151534d827ee"
      },
      "execution_count": null,
      "outputs": [
        {
          "output_type": "display_data",
          "data": {
            "text/plain": [
              "  0%|          | 0/66706 [00:00<?, ?it/s]"
            ],
            "application/vnd.jupyter.widget-view+json": {
              "version_major": 2,
              "version_minor": 0,
              "model_id": "de20e580835e4933b6b129d16feb7ff8"
            }
          },
          "metadata": {}
        }
      ]
    },
    {
      "cell_type": "markdown",
      "source": [
        "Now you are given the list of all smiles and the list of all log-p values for those smiles. Use RDKit fingerprints and Morgan fingerprints (if it's hard to get these, see the code in the next segment) along with any other fingerprint methods of your choice, and evaluate which perform best as input to a linear regressor."
      ],
      "metadata": {
        "id": "Wik1hoWSZdbq"
      }
    },
    {
      "cell_type": "markdown",
      "source": [
        "**NOTE TO TAs: Do not copy the following segment, since it's the solution to the exercise. Copy only after the exercise period is done**."
      ],
      "metadata": {
        "id": "vXhSYkJeaS-V"
      }
    },
    {
      "cell_type": "markdown",
      "source": [
        "First we classify based on RDKit Fingerprints."
      ],
      "metadata": {
        "id": "sJvnfX9Efiiy"
      }
    },
    {
      "cell_type": "code",
      "source": [
        "fingerprint_array = np.array([\n",
        "    list(map(float, fingerprint.ToBitString()))\n",
        "    for fingerprint in tqdm.tqdm(fingerprints)\n",
        "], dtype=np.float32)"
      ],
      "metadata": {
        "colab": {
          "base_uri": "https://localhost:8080/",
          "height": 49,
          "referenced_widgets": [
            "d990f54de41a4aa9a4b55baa892f27a2",
            "a19f2fbabf784f9da5422704c75578a6",
            "18f02f1fad6049d39213d6f87cfebe4f",
            "81964312deb04fc1b7fb776bff3f3dc7",
            "3bb033918fa34cc7a4ac0370e688fb09",
            "08b4077ce2904fa1bd67b3bad761691b",
            "49c7977f28b446b7a64fa53cfa367e52",
            "ba59acdb1a614dffa768c4de034f67d6",
            "f5c3294b85cc42f4ac3e098971e392c3",
            "0237e0ee94a74fba867590c86897011b",
            "7d6377fbca134e1db0eae5f7c353c45b"
          ]
        },
        "id": "05lQ4wAkXv13",
        "outputId": "47b664a4-e2af-4677-c357-04a8247313aa"
      },
      "execution_count": null,
      "outputs": [
        {
          "output_type": "display_data",
          "data": {
            "text/plain": [
              "  0%|          | 0/66706 [00:00<?, ?it/s]"
            ],
            "application/vnd.jupyter.widget-view+json": {
              "version_major": 2,
              "version_minor": 0,
              "model_id": "d990f54de41a4aa9a4b55baa892f27a2"
            }
          },
          "metadata": {}
        }
      ]
    },
    {
      "cell_type": "code",
      "source": [
        "fingerprint_array.shape, log_p.shape"
      ],
      "metadata": {
        "colab": {
          "base_uri": "https://localhost:8080/"
        },
        "id": "61JEoYL1YBtJ",
        "outputId": "e4ec29d5-52e7-4a26-ff63-abaddd851a0a"
      },
      "execution_count": null,
      "outputs": [
        {
          "output_type": "execute_result",
          "data": {
            "text/plain": [
              "((66706, 2048), (66706,))"
            ]
          },
          "metadata": {},
          "execution_count": 16
        }
      ]
    },
    {
      "cell_type": "code",
      "source": [
        "model = sklearn.linear_model.LinearRegression()\n",
        "\n",
        "fingerprint_array_train, fingerprint_array_test, log_p_train, log_p_test = \\\n",
        "    sklearn.model_selection.train_test_split(\n",
        "        fingerprint_array, log_p, test_size=0.2)\n",
        "\n",
        "model.fit(fingerprint_array_train, log_p_train)\n",
        "\n",
        "print(\"RMS error in Test Data:\",\n",
        "      np.mean(np.square(log_p_train - model.predict(fingerprint_array_train))))\n",
        "print(\"Variance in the Test Data:\", np.var(log_p_train))\n",
        "\n",
        "print(\"RMS error in Test Data:\",\n",
        "      np.mean(np.square(log_p_test - model.predict(fingerprint_array_test))))\n",
        "print(\"Variance in the Test Data:\", np.var(log_p_test))"
      ],
      "metadata": {
        "colab": {
          "base_uri": "https://localhost:8080/"
        },
        "id": "n0eFziD2ZBaq",
        "outputId": "cdf22500-4096-4974-92a3-4cbea03a03e7"
      },
      "execution_count": null,
      "outputs": [
        {
          "output_type": "stream",
          "name": "stdout",
          "text": [
            "RMS error in Test Data: 0.08701394\n",
            "Variance in the Test Data: 0.96842295\n",
            "RMS error in Test Data: 0.09584421\n",
            "Variance in the Test Data: 0.9907389\n"
          ]
        }
      ]
    },
    {
      "cell_type": "markdown",
      "source": [
        "Here we are actually able to make the predictions based on substructure hashes, this is because there might be substructures common across drug like molecules."
      ],
      "metadata": {
        "id": "ZTQMHz4Gj38T"
      }
    },
    {
      "cell_type": "markdown",
      "source": [
        "Now we use Morgan Fingerprints for the same classification."
      ],
      "metadata": {
        "id": "BgcyTpjRfR7E"
      }
    },
    {
      "cell_type": "code",
      "source": [
        "morgan_fingerprint_array = np.stack([\n",
        "    np.asarray(\n",
        "        rdkit.Chem.AllChem.GetMorganFingerprintAsBitVect(\n",
        "            rdkit.Chem.MolFromSmiles(smile),\n",
        "            radius=3,\n",
        "            nBits=128\n",
        "        )\n",
        "    )\n",
        "    for smile in tqdm.tqdm(smiles)\n",
        "])"
      ],
      "metadata": {
        "colab": {
          "base_uri": "https://localhost:8080/",
          "height": 49,
          "referenced_widgets": [
            "7999eb6a00114abba343c3fd9ae21903",
            "b1e50082ae01450b82269a361de144bc",
            "2d5774b9cd924d29b3e46d6f9a949543",
            "7bb20f45ec694ee095fab13d17f6bb1c",
            "13063aaf584b46729ac32379014eab92",
            "a60e7879c8f8435883d19b2d6d161396",
            "8d58a92d5ec64590b2b24bc251125850",
            "8c2bd299e543412c8b22fe535edd0b4c",
            "4b2423979e77490cba9effd832460178",
            "5215d8fbcec5406fba5d5409dd3b6c42",
            "7a2faf29371441e6895295b798c0712f"
          ]
        },
        "id": "PAHDkHnZaDuQ",
        "outputId": "ce04591b-b302-417c-9e1e-ba87a9b37544"
      },
      "execution_count": null,
      "outputs": [
        {
          "output_type": "display_data",
          "data": {
            "text/plain": [
              "  0%|          | 0/66706 [00:00<?, ?it/s]"
            ],
            "application/vnd.jupyter.widget-view+json": {
              "version_major": 2,
              "version_minor": 0,
              "model_id": "7999eb6a00114abba343c3fd9ae21903"
            }
          },
          "metadata": {}
        }
      ]
    },
    {
      "cell_type": "code",
      "source": [
        "model = sklearn.linear_model.LinearRegression()\n",
        "\n",
        "fingerprint_array_train, fingerprint_array_test, log_p_train, log_p_test = \\\n",
        "    sklearn.model_selection.train_test_split(\n",
        "        morgan_fingerprint_array, log_p, test_size=0.2)\n",
        "\n",
        "model.fit(fingerprint_array_train, log_p_train)\n",
        "\n",
        "print(\"RMS error in Test Data:\",\n",
        "      np.mean(np.square(log_p_train - model.predict(fingerprint_array_train))))\n",
        "print(\"Variance in the Test Data:\", np.var(log_p_train))\n",
        "\n",
        "print(\"RMS error in Test Data:\",\n",
        "      np.mean(np.square(log_p_test - model.predict(fingerprint_array_test))))\n",
        "print(\"Variance in the Test Data:\", np.var(log_p_test))"
      ],
      "metadata": {
        "colab": {
          "base_uri": "https://localhost:8080/"
        },
        "id": "38zI_GT-faJf",
        "outputId": "93034260-7ade-4766-edce-5db228e1975f"
      },
      "execution_count": null,
      "outputs": [
        {
          "output_type": "stream",
          "name": "stdout",
          "text": [
            "RMS error in Test Data: 0.43637258106416094\n",
            "Variance in the Test Data: 0.9726412\n",
            "RMS error in Test Data: 0.43458268859452603\n",
            "Variance in the Test Data: 0.9738276\n"
          ]
        }
      ]
    },
    {
      "cell_type": "markdown",
      "source": [
        "**Exploratory Task:**\n",
        "Play around with the number of bits and radius of features in the Morgan Fingerprint, and compare it to other fingerprint methods, both for learning and finding similar elements. Also compare the different similarity measures for clustering tasks. See Topological-Torsion fingerprints and other methods."
      ],
      "metadata": {
        "id": "p6MRqXRgflxu"
      }
    },
    {
      "cell_type": "markdown",
      "source": [
        "**Exploratory Task:**\n",
        "Lookup the ChEMBL dataset for Log-p values (drug likeness), and the Tox21 dataset for the toxicity value of molecules (the input already has in the sparse features file a list of ECFP fingerprints). Run classification/regression algorithms on these using the techniques learnt above. Attempt to characterize which tasks will these fingerprint based methods work well on and provide intuitive explainations for the same."
      ],
      "metadata": {
        "id": "3UWZ4dSCkT4R"
      }
    },
    {
      "cell_type": "code",
      "source": [
        ""
      ],
      "metadata": {
        "id": "xnC51HrleLYt"
      },
      "execution_count": null,
      "outputs": []
    }
  ]
}